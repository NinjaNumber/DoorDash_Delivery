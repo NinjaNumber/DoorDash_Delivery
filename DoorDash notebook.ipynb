{
 "cells": [
  {
   "cell_type": "markdown",
   "id": "91a1d19c",
   "metadata": {},
   "source": [
    "# DoorDash Project\n",
    "## --Predicting delivery time--"
   ]
  },
  {
   "cell_type": "markdown",
   "id": "800aa7a8",
   "metadata": {},
   "source": [
    "## 1. DATA PREPARATION"
   ]
  },
  {
   "cell_type": "code",
   "execution_count": 79,
   "id": "32a7f0fa",
   "metadata": {},
   "outputs": [],
   "source": [
    "import pandas as pd\n",
    "import numpy as np\n",
    "import matplotlib.pyplot as plt\n",
    "import seaborn as sns"
   ]
  },
  {
   "cell_type": "code",
   "execution_count": 125,
   "id": "86b29921",
   "metadata": {
    "scrolled": true
   },
   "outputs": [
    {
     "data": {
      "text/html": [
       "<div>\n",
       "<style scoped>\n",
       "    .dataframe tbody tr th:only-of-type {\n",
       "        vertical-align: middle;\n",
       "    }\n",
       "\n",
       "    .dataframe tbody tr th {\n",
       "        vertical-align: top;\n",
       "    }\n",
       "\n",
       "    .dataframe thead th {\n",
       "        text-align: right;\n",
       "    }\n",
       "</style>\n",
       "<table border=\"1\" class=\"dataframe\">\n",
       "  <thead>\n",
       "    <tr style=\"text-align: right;\">\n",
       "      <th></th>\n",
       "      <th>market_id</th>\n",
       "      <th>created_at</th>\n",
       "      <th>actual_delivery_time</th>\n",
       "      <th>store_id</th>\n",
       "      <th>store_primary_category</th>\n",
       "      <th>order_protocol</th>\n",
       "      <th>total_items</th>\n",
       "      <th>subtotal</th>\n",
       "      <th>num_distinct_items</th>\n",
       "      <th>min_item_price</th>\n",
       "      <th>max_item_price</th>\n",
       "      <th>total_onshift_dashers</th>\n",
       "      <th>total_busy_dashers</th>\n",
       "      <th>total_outstanding_orders</th>\n",
       "      <th>estimated_order_place_duration</th>\n",
       "      <th>estimated_store_to_consumer_driving_duration</th>\n",
       "    </tr>\n",
       "  </thead>\n",
       "  <tbody>\n",
       "    <tr>\n",
       "      <th>0</th>\n",
       "      <td>1.0</td>\n",
       "      <td>2015-02-06 22:24:17</td>\n",
       "      <td>2015-02-06 23:27:16</td>\n",
       "      <td>1845</td>\n",
       "      <td>american</td>\n",
       "      <td>1.0</td>\n",
       "      <td>4</td>\n",
       "      <td>3441</td>\n",
       "      <td>4</td>\n",
       "      <td>557</td>\n",
       "      <td>1239</td>\n",
       "      <td>33.0</td>\n",
       "      <td>14.0</td>\n",
       "      <td>21.0</td>\n",
       "      <td>446</td>\n",
       "      <td>861.0</td>\n",
       "    </tr>\n",
       "    <tr>\n",
       "      <th>1</th>\n",
       "      <td>2.0</td>\n",
       "      <td>2015-02-10 21:49:25</td>\n",
       "      <td>2015-02-10 22:56:29</td>\n",
       "      <td>5477</td>\n",
       "      <td>mexican</td>\n",
       "      <td>2.0</td>\n",
       "      <td>1</td>\n",
       "      <td>1900</td>\n",
       "      <td>1</td>\n",
       "      <td>1400</td>\n",
       "      <td>1400</td>\n",
       "      <td>1.0</td>\n",
       "      <td>2.0</td>\n",
       "      <td>2.0</td>\n",
       "      <td>446</td>\n",
       "      <td>690.0</td>\n",
       "    </tr>\n",
       "  </tbody>\n",
       "</table>\n",
       "</div>"
      ],
      "text/plain": [
       "   market_id           created_at actual_delivery_time  store_id  \\\n",
       "0        1.0  2015-02-06 22:24:17  2015-02-06 23:27:16      1845   \n",
       "1        2.0  2015-02-10 21:49:25  2015-02-10 22:56:29      5477   \n",
       "\n",
       "  store_primary_category  order_protocol  total_items  subtotal  \\\n",
       "0               american             1.0            4      3441   \n",
       "1                mexican             2.0            1      1900   \n",
       "\n",
       "   num_distinct_items  min_item_price  max_item_price  total_onshift_dashers  \\\n",
       "0                   4             557            1239                   33.0   \n",
       "1                   1            1400            1400                    1.0   \n",
       "\n",
       "   total_busy_dashers  total_outstanding_orders  \\\n",
       "0                14.0                      21.0   \n",
       "1                 2.0                       2.0   \n",
       "\n",
       "   estimated_order_place_duration  \\\n",
       "0                             446   \n",
       "1                             446   \n",
       "\n",
       "   estimated_store_to_consumer_driving_duration  \n",
       "0                                         861.0  \n",
       "1                                         690.0  "
      ]
     },
     "execution_count": 125,
     "metadata": {},
     "output_type": "execute_result"
    }
   ],
   "source": [
    "df = pd.read_csv('doordash.csv')\n",
    "df.head(2)"
   ]
  },
  {
   "cell_type": "markdown",
   "id": "6c766440",
   "metadata": {},
   "source": [
    "### 1.1 Data Exploration"
   ]
  },
  {
   "cell_type": "code",
   "execution_count": 7,
   "id": "913ddbb0",
   "metadata": {
    "scrolled": false
   },
   "outputs": [
    {
     "name": "stdout",
     "output_type": "stream",
     "text": [
      "<class 'pandas.core.frame.DataFrame'>\n",
      "RangeIndex: 197428 entries, 0 to 197427\n",
      "Data columns (total 16 columns):\n",
      " #   Column                                        Non-Null Count   Dtype  \n",
      "---  ------                                        --------------   -----  \n",
      " 0   market_id                                     196441 non-null  float64\n",
      " 1   created_at                                    197428 non-null  object \n",
      " 2   actual_delivery_time                          197421 non-null  object \n",
      " 3   store_id                                      197428 non-null  int64  \n",
      " 4   store_primary_category                        192668 non-null  object \n",
      " 5   order_protocol                                196433 non-null  float64\n",
      " 6   total_items                                   197428 non-null  int64  \n",
      " 7   subtotal                                      197428 non-null  int64  \n",
      " 8   num_distinct_items                            197428 non-null  int64  \n",
      " 9   min_item_price                                197428 non-null  int64  \n",
      " 10  max_item_price                                197428 non-null  int64  \n",
      " 11  total_onshift_dashers                         181166 non-null  float64\n",
      " 12  total_busy_dashers                            181166 non-null  float64\n",
      " 13  total_outstanding_orders                      181166 non-null  float64\n",
      " 14  estimated_order_place_duration                197428 non-null  int64  \n",
      " 15  estimated_store_to_consumer_driving_duration  196902 non-null  float64\n",
      "dtypes: float64(6), int64(7), object(3)\n",
      "memory usage: 24.1+ MB\n"
     ]
    }
   ],
   "source": [
    "df.info()"
   ]
  },
  {
   "cell_type": "markdown",
   "id": "2e3ec021",
   "metadata": {},
   "source": [
    "To-do: Handle missing values; handle categorical data - market_id, store_id, store_primary_cateogry, order_protocol; handle datetime"
   ]
  },
  {
   "cell_type": "markdown",
   "id": "525bb449",
   "metadata": {},
   "source": [
    "#### Formatting columns"
   ]
  },
  {
   "cell_type": "code",
   "execution_count": 126,
   "id": "abaabcc3",
   "metadata": {},
   "outputs": [],
   "source": [
    "from datetime import datetime\n",
    "\n",
    "df['created_at'] = pd.to_datetime(df['created_at'])\n",
    "df['actual_delivery_time'] = pd.to_datetime(df['actual_delivery_time'])"
   ]
  },
  {
   "cell_type": "markdown",
   "id": "a5566e64",
   "metadata": {},
   "source": [
    "#### Create necessary features"
   ]
  },
  {
   "cell_type": "code",
   "execution_count": 127,
   "id": "adcaaafb",
   "metadata": {
    "scrolled": true
   },
   "outputs": [
    {
     "data": {
      "text/html": [
       "<div>\n",
       "<style scoped>\n",
       "    .dataframe tbody tr th:only-of-type {\n",
       "        vertical-align: middle;\n",
       "    }\n",
       "\n",
       "    .dataframe tbody tr th {\n",
       "        vertical-align: top;\n",
       "    }\n",
       "\n",
       "    .dataframe thead th {\n",
       "        text-align: right;\n",
       "    }\n",
       "</style>\n",
       "<table border=\"1\" class=\"dataframe\">\n",
       "  <thead>\n",
       "    <tr style=\"text-align: right;\">\n",
       "      <th></th>\n",
       "      <th>market_id</th>\n",
       "      <th>created_at</th>\n",
       "      <th>actual_delivery_time</th>\n",
       "      <th>store_id</th>\n",
       "      <th>store_primary_category</th>\n",
       "      <th>order_protocol</th>\n",
       "      <th>total_items</th>\n",
       "      <th>subtotal</th>\n",
       "      <th>num_distinct_items</th>\n",
       "      <th>min_item_price</th>\n",
       "      <th>max_item_price</th>\n",
       "      <th>total_onshift_dashers</th>\n",
       "      <th>total_busy_dashers</th>\n",
       "      <th>total_outstanding_orders</th>\n",
       "      <th>estimated_order_place_duration</th>\n",
       "      <th>estimated_store_to_consumer_driving_duration</th>\n",
       "      <th>actual_total_delivery_time</th>\n",
       "    </tr>\n",
       "  </thead>\n",
       "  <tbody>\n",
       "    <tr>\n",
       "      <th>0</th>\n",
       "      <td>1.0</td>\n",
       "      <td>2015-02-06 22:24:17</td>\n",
       "      <td>2015-02-06 23:27:16</td>\n",
       "      <td>1845</td>\n",
       "      <td>american</td>\n",
       "      <td>1.0</td>\n",
       "      <td>4</td>\n",
       "      <td>3441</td>\n",
       "      <td>4</td>\n",
       "      <td>557</td>\n",
       "      <td>1239</td>\n",
       "      <td>33.0</td>\n",
       "      <td>14.0</td>\n",
       "      <td>21.0</td>\n",
       "      <td>446</td>\n",
       "      <td>861.0</td>\n",
       "      <td>3779.0</td>\n",
       "    </tr>\n",
       "    <tr>\n",
       "      <th>1</th>\n",
       "      <td>2.0</td>\n",
       "      <td>2015-02-10 21:49:25</td>\n",
       "      <td>2015-02-10 22:56:29</td>\n",
       "      <td>5477</td>\n",
       "      <td>mexican</td>\n",
       "      <td>2.0</td>\n",
       "      <td>1</td>\n",
       "      <td>1900</td>\n",
       "      <td>1</td>\n",
       "      <td>1400</td>\n",
       "      <td>1400</td>\n",
       "      <td>1.0</td>\n",
       "      <td>2.0</td>\n",
       "      <td>2.0</td>\n",
       "      <td>446</td>\n",
       "      <td>690.0</td>\n",
       "      <td>4024.0</td>\n",
       "    </tr>\n",
       "  </tbody>\n",
       "</table>\n",
       "</div>"
      ],
      "text/plain": [
       "   market_id          created_at actual_delivery_time  store_id  \\\n",
       "0        1.0 2015-02-06 22:24:17  2015-02-06 23:27:16      1845   \n",
       "1        2.0 2015-02-10 21:49:25  2015-02-10 22:56:29      5477   \n",
       "\n",
       "  store_primary_category  order_protocol  total_items  subtotal  \\\n",
       "0               american             1.0            4      3441   \n",
       "1                mexican             2.0            1      1900   \n",
       "\n",
       "   num_distinct_items  min_item_price  max_item_price  total_onshift_dashers  \\\n",
       "0                   4             557            1239                   33.0   \n",
       "1                   1            1400            1400                    1.0   \n",
       "\n",
       "   total_busy_dashers  total_outstanding_orders  \\\n",
       "0                14.0                      21.0   \n",
       "1                 2.0                       2.0   \n",
       "\n",
       "   estimated_order_place_duration  \\\n",
       "0                             446   \n",
       "1                             446   \n",
       "\n",
       "   estimated_store_to_consumer_driving_duration  actual_total_delivery_time  \n",
       "0                                         861.0                      3779.0  \n",
       "1                                         690.0                      4024.0  "
      ]
     },
     "execution_count": 127,
     "metadata": {},
     "output_type": "execute_result"
    }
   ],
   "source": [
    "df['actual_total_delivery_time'] = (df['actual_delivery_time'] - df['created_at']).dt.total_seconds()\n",
    "df.head(2)"
   ]
  },
  {
   "cell_type": "code",
   "execution_count": 128,
   "id": "0b2af060",
   "metadata": {},
   "outputs": [
    {
     "data": {
      "text/html": [
       "<div>\n",
       "<style scoped>\n",
       "    .dataframe tbody tr th:only-of-type {\n",
       "        vertical-align: middle;\n",
       "    }\n",
       "\n",
       "    .dataframe tbody tr th {\n",
       "        vertical-align: top;\n",
       "    }\n",
       "\n",
       "    .dataframe thead th {\n",
       "        text-align: right;\n",
       "    }\n",
       "</style>\n",
       "<table border=\"1\" class=\"dataframe\">\n",
       "  <thead>\n",
       "    <tr style=\"text-align: right;\">\n",
       "      <th></th>\n",
       "      <th>market_id</th>\n",
       "      <th>created_at</th>\n",
       "      <th>actual_delivery_time</th>\n",
       "      <th>store_id</th>\n",
       "      <th>store_primary_category</th>\n",
       "      <th>order_protocol</th>\n",
       "      <th>total_items</th>\n",
       "      <th>subtotal</th>\n",
       "      <th>num_distinct_items</th>\n",
       "      <th>min_item_price</th>\n",
       "      <th>max_item_price</th>\n",
       "      <th>total_onshift_dashers</th>\n",
       "      <th>total_busy_dashers</th>\n",
       "      <th>total_outstanding_orders</th>\n",
       "      <th>estimated_order_place_duration</th>\n",
       "      <th>estimated_store_to_consumer_driving_duration</th>\n",
       "      <th>actual_total_delivery_time</th>\n",
       "      <th>estimated_non_prep_duration</th>\n",
       "    </tr>\n",
       "  </thead>\n",
       "  <tbody>\n",
       "    <tr>\n",
       "      <th>0</th>\n",
       "      <td>1.0</td>\n",
       "      <td>2015-02-06 22:24:17</td>\n",
       "      <td>2015-02-06 23:27:16</td>\n",
       "      <td>1845</td>\n",
       "      <td>american</td>\n",
       "      <td>1.0</td>\n",
       "      <td>4</td>\n",
       "      <td>3441</td>\n",
       "      <td>4</td>\n",
       "      <td>557</td>\n",
       "      <td>1239</td>\n",
       "      <td>33.0</td>\n",
       "      <td>14.0</td>\n",
       "      <td>21.0</td>\n",
       "      <td>446</td>\n",
       "      <td>861.0</td>\n",
       "      <td>3779.0</td>\n",
       "      <td>1307.0</td>\n",
       "    </tr>\n",
       "    <tr>\n",
       "      <th>1</th>\n",
       "      <td>2.0</td>\n",
       "      <td>2015-02-10 21:49:25</td>\n",
       "      <td>2015-02-10 22:56:29</td>\n",
       "      <td>5477</td>\n",
       "      <td>mexican</td>\n",
       "      <td>2.0</td>\n",
       "      <td>1</td>\n",
       "      <td>1900</td>\n",
       "      <td>1</td>\n",
       "      <td>1400</td>\n",
       "      <td>1400</td>\n",
       "      <td>1.0</td>\n",
       "      <td>2.0</td>\n",
       "      <td>2.0</td>\n",
       "      <td>446</td>\n",
       "      <td>690.0</td>\n",
       "      <td>4024.0</td>\n",
       "      <td>1136.0</td>\n",
       "    </tr>\n",
       "  </tbody>\n",
       "</table>\n",
       "</div>"
      ],
      "text/plain": [
       "   market_id          created_at actual_delivery_time  store_id  \\\n",
       "0        1.0 2015-02-06 22:24:17  2015-02-06 23:27:16      1845   \n",
       "1        2.0 2015-02-10 21:49:25  2015-02-10 22:56:29      5477   \n",
       "\n",
       "  store_primary_category  order_protocol  total_items  subtotal  \\\n",
       "0               american             1.0            4      3441   \n",
       "1                mexican             2.0            1      1900   \n",
       "\n",
       "   num_distinct_items  min_item_price  max_item_price  total_onshift_dashers  \\\n",
       "0                   4             557            1239                   33.0   \n",
       "1                   1            1400            1400                    1.0   \n",
       "\n",
       "   total_busy_dashers  total_outstanding_orders  \\\n",
       "0                14.0                      21.0   \n",
       "1                 2.0                       2.0   \n",
       "\n",
       "   estimated_order_place_duration  \\\n",
       "0                             446   \n",
       "1                             446   \n",
       "\n",
       "   estimated_store_to_consumer_driving_duration  actual_total_delivery_time  \\\n",
       "0                                         861.0                      3779.0   \n",
       "1                                         690.0                      4024.0   \n",
       "\n",
       "   estimated_non_prep_duration  \n",
       "0                       1307.0  \n",
       "1                       1136.0  "
      ]
     },
     "execution_count": 128,
     "metadata": {},
     "output_type": "execute_result"
    }
   ],
   "source": [
    "# Delivery process should be splitted into: prep & non-prep time\n",
    "\n",
    "df['estimated_non_prep_duration'] = (df['estimated_order_place_duration'] + df['estimated_store_to_consumer_driving_duration'])\n",
    "df.head(2)"
   ]
  },
  {
   "cell_type": "code",
   "execution_count": 129,
   "id": "988093bc",
   "metadata": {},
   "outputs": [
    {
     "data": {
      "text/html": [
       "<div>\n",
       "<style scoped>\n",
       "    .dataframe tbody tr th:only-of-type {\n",
       "        vertical-align: middle;\n",
       "    }\n",
       "\n",
       "    .dataframe tbody tr th {\n",
       "        vertical-align: top;\n",
       "    }\n",
       "\n",
       "    .dataframe thead th {\n",
       "        text-align: right;\n",
       "    }\n",
       "</style>\n",
       "<table border=\"1\" class=\"dataframe\">\n",
       "  <thead>\n",
       "    <tr style=\"text-align: right;\">\n",
       "      <th></th>\n",
       "      <th>market_id</th>\n",
       "      <th>created_at</th>\n",
       "      <th>actual_delivery_time</th>\n",
       "      <th>store_id</th>\n",
       "      <th>store_primary_category</th>\n",
       "      <th>order_protocol</th>\n",
       "      <th>total_items</th>\n",
       "      <th>subtotal</th>\n",
       "      <th>num_distinct_items</th>\n",
       "      <th>min_item_price</th>\n",
       "      <th>max_item_price</th>\n",
       "      <th>total_onshift_dashers</th>\n",
       "      <th>total_busy_dashers</th>\n",
       "      <th>total_outstanding_orders</th>\n",
       "      <th>estimated_order_place_duration</th>\n",
       "      <th>estimated_store_to_consumer_driving_duration</th>\n",
       "      <th>actual_total_delivery_time</th>\n",
       "      <th>estimated_non_prep_duration</th>\n",
       "      <th>busy_dashers_ratio</th>\n",
       "    </tr>\n",
       "  </thead>\n",
       "  <tbody>\n",
       "    <tr>\n",
       "      <th>0</th>\n",
       "      <td>1.0</td>\n",
       "      <td>2015-02-06 22:24:17</td>\n",
       "      <td>2015-02-06 23:27:16</td>\n",
       "      <td>1845</td>\n",
       "      <td>american</td>\n",
       "      <td>1.0</td>\n",
       "      <td>4</td>\n",
       "      <td>3441</td>\n",
       "      <td>4</td>\n",
       "      <td>557</td>\n",
       "      <td>1239</td>\n",
       "      <td>33.0</td>\n",
       "      <td>14.0</td>\n",
       "      <td>21.0</td>\n",
       "      <td>446</td>\n",
       "      <td>861.0</td>\n",
       "      <td>3779.0</td>\n",
       "      <td>1307.0</td>\n",
       "      <td>0.424242</td>\n",
       "    </tr>\n",
       "    <tr>\n",
       "      <th>1</th>\n",
       "      <td>2.0</td>\n",
       "      <td>2015-02-10 21:49:25</td>\n",
       "      <td>2015-02-10 22:56:29</td>\n",
       "      <td>5477</td>\n",
       "      <td>mexican</td>\n",
       "      <td>2.0</td>\n",
       "      <td>1</td>\n",
       "      <td>1900</td>\n",
       "      <td>1</td>\n",
       "      <td>1400</td>\n",
       "      <td>1400</td>\n",
       "      <td>1.0</td>\n",
       "      <td>2.0</td>\n",
       "      <td>2.0</td>\n",
       "      <td>446</td>\n",
       "      <td>690.0</td>\n",
       "      <td>4024.0</td>\n",
       "      <td>1136.0</td>\n",
       "      <td>2.000000</td>\n",
       "    </tr>\n",
       "  </tbody>\n",
       "</table>\n",
       "</div>"
      ],
      "text/plain": [
       "   market_id          created_at actual_delivery_time  store_id  \\\n",
       "0        1.0 2015-02-06 22:24:17  2015-02-06 23:27:16      1845   \n",
       "1        2.0 2015-02-10 21:49:25  2015-02-10 22:56:29      5477   \n",
       "\n",
       "  store_primary_category  order_protocol  total_items  subtotal  \\\n",
       "0               american             1.0            4      3441   \n",
       "1                mexican             2.0            1      1900   \n",
       "\n",
       "   num_distinct_items  min_item_price  max_item_price  total_onshift_dashers  \\\n",
       "0                   4             557            1239                   33.0   \n",
       "1                   1            1400            1400                    1.0   \n",
       "\n",
       "   total_busy_dashers  total_outstanding_orders  \\\n",
       "0                14.0                      21.0   \n",
       "1                 2.0                       2.0   \n",
       "\n",
       "   estimated_order_place_duration  \\\n",
       "0                             446   \n",
       "1                             446   \n",
       "\n",
       "   estimated_store_to_consumer_driving_duration  actual_total_delivery_time  \\\n",
       "0                                         861.0                      3779.0   \n",
       "1                                         690.0                      4024.0   \n",
       "\n",
       "   estimated_non_prep_duration  busy_dashers_ratio  \n",
       "0                       1307.0            0.424242  \n",
       "1                       1136.0            2.000000  "
      ]
     },
     "execution_count": 129,
     "metadata": {},
     "output_type": "execute_result"
    }
   ],
   "source": [
    "# Busy dashers ratio - the proportion of busy dashers at the time order was placed\n",
    "\n",
    "df['busy_dashers_ratio'] = df['total_busy_dashers']/df['total_onshift_dashers']\n",
    "df.head(2)"
   ]
  },
  {
   "cell_type": "markdown",
   "id": "ed4fda12",
   "metadata": {},
   "source": [
    "### 1.2 Data Preparation"
   ]
  },
  {
   "cell_type": "markdown",
   "id": "6bb79f44",
   "metadata": {},
   "source": [
    "#### Encoding categorical variables"
   ]
  },
  {
   "cell_type": "code",
   "execution_count": 87,
   "id": "ea6dbb2a",
   "metadata": {
    "scrolled": false
   },
   "outputs": [
    {
     "name": "stdout",
     "output_type": "stream",
     "text": [
      "market_id : 6\n",
      "store_id : 6743\n",
      "order_protocol : 7\n"
     ]
    }
   ],
   "source": [
    "for n in ['market_id', 'store_id', 'order_protocol']:\n",
    "    print(n, ':', df[n].nunique())"
   ]
  },
  {
   "cell_type": "markdown",
   "id": "4f4efda5",
   "metadata": {},
   "source": [
    "TO-DO: Remove store_id; convert market_id and order_protocol into numercial variables"
   ]
  },
  {
   "cell_type": "markdown",
   "id": "4030d5f0",
   "metadata": {},
   "source": [
    "#### Handle missing values in store_primary_category before removing store_id"
   ]
  },
  {
   "cell_type": "code",
   "execution_count": 65,
   "id": "3fb8b9fd",
   "metadata": {
    "scrolled": false
   },
   "outputs": [
    {
     "data": {
      "text/plain": [
       "4760"
      ]
     },
     "execution_count": 65,
     "metadata": {},
     "output_type": "execute_result"
    }
   ],
   "source": [
    "df['store_primary_category'].isnull().sum()"
   ]
  },
  {
   "cell_type": "code",
   "execution_count": 130,
   "id": "e725019c",
   "metadata": {},
   "outputs": [],
   "source": [
    "# Assign store id to most frequent catetgory\n",
    "\n",
    "store_id_unique = df['store_id'].unique().tolist()\n",
    "#store_id_category = {store_id : df[df['store_id']==store_id]['store_primary_category'].mode() for store_id in store_id_unique}\n",
    "store_id_category = {store_id: df[df.store_id == store_id].store_primary_category.mode() \n",
    "                         for store_id in store_id_unique}"
   ]
  },
  {
   "cell_type": "code",
   "execution_count": 131,
   "id": "00b4bc40",
   "metadata": {},
   "outputs": [],
   "source": [
    "def fill(store_id):\n",
    "    try:\n",
    "        return store_id_category[store_id].values[0]\n",
    "    except:\n",
    "        return np.nan\n",
    "\n",
    "df['nan_free_store_primary_category'] = df['store_id'].apply(fill)"
   ]
  },
  {
   "cell_type": "markdown",
   "id": "f787cd83",
   "metadata": {},
   "source": [
    " "
   ]
  },
  {
   "cell_type": "code",
   "execution_count": 132,
   "id": "eb8ef459",
   "metadata": {},
   "outputs": [],
   "source": [
    "order_protocol_dummies = pd.get_dummies(df['order_protocol'])"
   ]
  },
  {
   "cell_type": "code",
   "execution_count": 133,
   "id": "fbcdb5bb",
   "metadata": {
    "scrolled": true
   },
   "outputs": [
    {
     "data": {
      "text/html": [
       "<div>\n",
       "<style scoped>\n",
       "    .dataframe tbody tr th:only-of-type {\n",
       "        vertical-align: middle;\n",
       "    }\n",
       "\n",
       "    .dataframe tbody tr th {\n",
       "        vertical-align: top;\n",
       "    }\n",
       "\n",
       "    .dataframe thead th {\n",
       "        text-align: right;\n",
       "    }\n",
       "</style>\n",
       "<table border=\"1\" class=\"dataframe\">\n",
       "  <thead>\n",
       "    <tr style=\"text-align: right;\">\n",
       "      <th></th>\n",
       "      <th>order_protocol_1.0</th>\n",
       "      <th>order_protocol_2.0</th>\n",
       "      <th>order_protocol_3.0</th>\n",
       "      <th>order_protocol_4.0</th>\n",
       "      <th>order_protocol_5.0</th>\n",
       "      <th>order_protocol_6.0</th>\n",
       "      <th>order_protocol_7.0</th>\n",
       "    </tr>\n",
       "  </thead>\n",
       "  <tbody>\n",
       "    <tr>\n",
       "      <th>0</th>\n",
       "      <td>1</td>\n",
       "      <td>0</td>\n",
       "      <td>0</td>\n",
       "      <td>0</td>\n",
       "      <td>0</td>\n",
       "      <td>0</td>\n",
       "      <td>0</td>\n",
       "    </tr>\n",
       "    <tr>\n",
       "      <th>1</th>\n",
       "      <td>0</td>\n",
       "      <td>1</td>\n",
       "      <td>0</td>\n",
       "      <td>0</td>\n",
       "      <td>0</td>\n",
       "      <td>0</td>\n",
       "      <td>0</td>\n",
       "    </tr>\n",
       "  </tbody>\n",
       "</table>\n",
       "</div>"
      ],
      "text/plain": [
       "   order_protocol_1.0  order_protocol_2.0  order_protocol_3.0  \\\n",
       "0                   1                   0                   0   \n",
       "1                   0                   1                   0   \n",
       "\n",
       "   order_protocol_4.0  order_protocol_5.0  order_protocol_6.0  \\\n",
       "0                   0                   0                   0   \n",
       "1                   0                   0                   0   \n",
       "\n",
       "   order_protocol_7.0  \n",
       "0                   0  \n",
       "1                   0  "
      ]
     },
     "execution_count": 133,
     "metadata": {},
     "output_type": "execute_result"
    }
   ],
   "source": [
    "order_protocol_dummies = order_protocol_dummies.add_prefix('order_protocol_')\n",
    "order_protocol_dummies.head(2)"
   ]
  },
  {
   "cell_type": "code",
   "execution_count": 134,
   "id": "76a116c6",
   "metadata": {
    "scrolled": true
   },
   "outputs": [
    {
     "data": {
      "text/html": [
       "<div>\n",
       "<style scoped>\n",
       "    .dataframe tbody tr th:only-of-type {\n",
       "        vertical-align: middle;\n",
       "    }\n",
       "\n",
       "    .dataframe tbody tr th {\n",
       "        vertical-align: top;\n",
       "    }\n",
       "\n",
       "    .dataframe thead th {\n",
       "        text-align: right;\n",
       "    }\n",
       "</style>\n",
       "<table border=\"1\" class=\"dataframe\">\n",
       "  <thead>\n",
       "    <tr style=\"text-align: right;\">\n",
       "      <th></th>\n",
       "      <th>market_id_1.0</th>\n",
       "      <th>market_id_2.0</th>\n",
       "      <th>market_id_3.0</th>\n",
       "      <th>market_id_4.0</th>\n",
       "      <th>market_id_5.0</th>\n",
       "      <th>market_id_6.0</th>\n",
       "    </tr>\n",
       "  </thead>\n",
       "  <tbody>\n",
       "    <tr>\n",
       "      <th>0</th>\n",
       "      <td>1</td>\n",
       "      <td>0</td>\n",
       "      <td>0</td>\n",
       "      <td>0</td>\n",
       "      <td>0</td>\n",
       "      <td>0</td>\n",
       "    </tr>\n",
       "    <tr>\n",
       "      <th>1</th>\n",
       "      <td>0</td>\n",
       "      <td>1</td>\n",
       "      <td>0</td>\n",
       "      <td>0</td>\n",
       "      <td>0</td>\n",
       "      <td>0</td>\n",
       "    </tr>\n",
       "  </tbody>\n",
       "</table>\n",
       "</div>"
      ],
      "text/plain": [
       "   market_id_1.0  market_id_2.0  market_id_3.0  market_id_4.0  market_id_5.0  \\\n",
       "0              1              0              0              0              0   \n",
       "1              0              1              0              0              0   \n",
       "\n",
       "   market_id_6.0  \n",
       "0              0  \n",
       "1              0  "
      ]
     },
     "execution_count": 134,
     "metadata": {},
     "output_type": "execute_result"
    }
   ],
   "source": [
    "market_id_dummies = pd.get_dummies(df['market_id'])\n",
    "market_id_dummies = market_id_dummies.add_prefix('market_id_')\n",
    "market_id_dummies.head(2)"
   ]
  },
  {
   "cell_type": "code",
   "execution_count": 135,
   "id": "71a86ea7",
   "metadata": {},
   "outputs": [
    {
     "data": {
      "text/html": [
       "<div>\n",
       "<style scoped>\n",
       "    .dataframe tbody tr th:only-of-type {\n",
       "        vertical-align: middle;\n",
       "    }\n",
       "\n",
       "    .dataframe tbody tr th {\n",
       "        vertical-align: top;\n",
       "    }\n",
       "\n",
       "    .dataframe thead th {\n",
       "        text-align: right;\n",
       "    }\n",
       "</style>\n",
       "<table border=\"1\" class=\"dataframe\">\n",
       "  <thead>\n",
       "    <tr style=\"text-align: right;\">\n",
       "      <th></th>\n",
       "      <th>category_afghan</th>\n",
       "      <th>category_african</th>\n",
       "      <th>category_alcohol</th>\n",
       "      <th>category_alcohol-plus-food</th>\n",
       "      <th>category_american</th>\n",
       "      <th>category_argentine</th>\n",
       "      <th>category_asian</th>\n",
       "      <th>category_barbecue</th>\n",
       "      <th>category_belgian</th>\n",
       "      <th>category_brazilian</th>\n",
       "      <th>...</th>\n",
       "      <th>category_southern</th>\n",
       "      <th>category_spanish</th>\n",
       "      <th>category_steak</th>\n",
       "      <th>category_sushi</th>\n",
       "      <th>category_tapas</th>\n",
       "      <th>category_thai</th>\n",
       "      <th>category_turkish</th>\n",
       "      <th>category_vegan</th>\n",
       "      <th>category_vegetarian</th>\n",
       "      <th>category_vietnamese</th>\n",
       "    </tr>\n",
       "  </thead>\n",
       "  <tbody>\n",
       "    <tr>\n",
       "      <th>0</th>\n",
       "      <td>0</td>\n",
       "      <td>0</td>\n",
       "      <td>0</td>\n",
       "      <td>0</td>\n",
       "      <td>1</td>\n",
       "      <td>0</td>\n",
       "      <td>0</td>\n",
       "      <td>0</td>\n",
       "      <td>0</td>\n",
       "      <td>0</td>\n",
       "      <td>...</td>\n",
       "      <td>0</td>\n",
       "      <td>0</td>\n",
       "      <td>0</td>\n",
       "      <td>0</td>\n",
       "      <td>0</td>\n",
       "      <td>0</td>\n",
       "      <td>0</td>\n",
       "      <td>0</td>\n",
       "      <td>0</td>\n",
       "      <td>0</td>\n",
       "    </tr>\n",
       "    <tr>\n",
       "      <th>1</th>\n",
       "      <td>0</td>\n",
       "      <td>0</td>\n",
       "      <td>0</td>\n",
       "      <td>0</td>\n",
       "      <td>0</td>\n",
       "      <td>0</td>\n",
       "      <td>0</td>\n",
       "      <td>0</td>\n",
       "      <td>0</td>\n",
       "      <td>0</td>\n",
       "      <td>...</td>\n",
       "      <td>0</td>\n",
       "      <td>0</td>\n",
       "      <td>0</td>\n",
       "      <td>0</td>\n",
       "      <td>0</td>\n",
       "      <td>0</td>\n",
       "      <td>0</td>\n",
       "      <td>0</td>\n",
       "      <td>0</td>\n",
       "      <td>0</td>\n",
       "    </tr>\n",
       "  </tbody>\n",
       "</table>\n",
       "<p>2 rows × 74 columns</p>\n",
       "</div>"
      ],
      "text/plain": [
       "   category_afghan  category_african  category_alcohol  \\\n",
       "0                0                 0                 0   \n",
       "1                0                 0                 0   \n",
       "\n",
       "   category_alcohol-plus-food  category_american  category_argentine  \\\n",
       "0                           0                  1                   0   \n",
       "1                           0                  0                   0   \n",
       "\n",
       "   category_asian  category_barbecue  category_belgian  category_brazilian  \\\n",
       "0               0                  0                 0                   0   \n",
       "1               0                  0                 0                   0   \n",
       "\n",
       "   ...  category_southern  category_spanish  category_steak  category_sushi  \\\n",
       "0  ...                  0                 0               0               0   \n",
       "1  ...                  0                 0               0               0   \n",
       "\n",
       "   category_tapas  category_thai  category_turkish  category_vegan  \\\n",
       "0               0              0                 0               0   \n",
       "1               0              0                 0               0   \n",
       "\n",
       "   category_vegetarian  category_vietnamese  \n",
       "0                    0                    0  \n",
       "1                    0                    0  \n",
       "\n",
       "[2 rows x 74 columns]"
      ]
     },
     "execution_count": 135,
     "metadata": {},
     "output_type": "execute_result"
    }
   ],
   "source": [
    "store_primary_category_dummies = pd.get_dummies(df['nan_free_store_primary_category'])\n",
    "store_primary_category_dummies = store_primary_category_dummies.add_prefix('category_')\n",
    "store_primary_category_dummies.head(2)"
   ]
  },
  {
   "cell_type": "markdown",
   "id": "6560a867",
   "metadata": {},
   "source": [
    "#### Dataframe restructuring"
   ]
  },
  {
   "cell_type": "code",
   "execution_count": 94,
   "id": "59f208a0",
   "metadata": {
    "scrolled": true
   },
   "outputs": [
    {
     "data": {
      "text/plain": [
       "Index(['market_id', 'created_at', 'actual_delivery_time', 'store_id',\n",
       "       'store_primary_category', 'order_protocol', 'total_items', 'subtotal',\n",
       "       'num_distinct_items', 'min_item_price', 'max_item_price',\n",
       "       'total_onshift_dashers', 'total_busy_dashers',\n",
       "       'total_outstanding_orders', 'estimated_order_place_duration',\n",
       "       'estimated_store_to_consumer_driving_duration',\n",
       "       'actual_total_delivery_time', 'estimated_non_prep_duration',\n",
       "       'busy_dashers_ratio', 'nan_free_store_primary_category'],\n",
       "      dtype='object')"
      ]
     },
     "execution_count": 94,
     "metadata": {},
     "output_type": "execute_result"
    }
   ],
   "source": [
    "df.columns"
   ]
  },
  {
   "cell_type": "code",
   "execution_count": 136,
   "id": "7d568888",
   "metadata": {},
   "outputs": [
    {
     "data": {
      "text/html": [
       "<div>\n",
       "<style scoped>\n",
       "    .dataframe tbody tr th:only-of-type {\n",
       "        vertical-align: middle;\n",
       "    }\n",
       "\n",
       "    .dataframe tbody tr th {\n",
       "        vertical-align: top;\n",
       "    }\n",
       "\n",
       "    .dataframe thead th {\n",
       "        text-align: right;\n",
       "    }\n",
       "</style>\n",
       "<table border=\"1\" class=\"dataframe\">\n",
       "  <thead>\n",
       "    <tr style=\"text-align: right;\">\n",
       "      <th></th>\n",
       "      <th>total_items</th>\n",
       "      <th>subtotal</th>\n",
       "      <th>num_distinct_items</th>\n",
       "      <th>min_item_price</th>\n",
       "      <th>max_item_price</th>\n",
       "      <th>total_onshift_dashers</th>\n",
       "      <th>total_busy_dashers</th>\n",
       "      <th>total_outstanding_orders</th>\n",
       "      <th>estimated_order_place_duration</th>\n",
       "      <th>estimated_store_to_consumer_driving_duration</th>\n",
       "      <th>actual_total_delivery_time</th>\n",
       "      <th>estimated_non_prep_duration</th>\n",
       "      <th>busy_dashers_ratio</th>\n",
       "    </tr>\n",
       "  </thead>\n",
       "  <tbody>\n",
       "    <tr>\n",
       "      <th>0</th>\n",
       "      <td>4</td>\n",
       "      <td>3441</td>\n",
       "      <td>4</td>\n",
       "      <td>557</td>\n",
       "      <td>1239</td>\n",
       "      <td>33.0</td>\n",
       "      <td>14.0</td>\n",
       "      <td>21.0</td>\n",
       "      <td>446</td>\n",
       "      <td>861.0</td>\n",
       "      <td>3779.0</td>\n",
       "      <td>1307.0</td>\n",
       "      <td>0.424242</td>\n",
       "    </tr>\n",
       "    <tr>\n",
       "      <th>1</th>\n",
       "      <td>1</td>\n",
       "      <td>1900</td>\n",
       "      <td>1</td>\n",
       "      <td>1400</td>\n",
       "      <td>1400</td>\n",
       "      <td>1.0</td>\n",
       "      <td>2.0</td>\n",
       "      <td>2.0</td>\n",
       "      <td>446</td>\n",
       "      <td>690.0</td>\n",
       "      <td>4024.0</td>\n",
       "      <td>1136.0</td>\n",
       "      <td>2.000000</td>\n",
       "    </tr>\n",
       "  </tbody>\n",
       "</table>\n",
       "</div>"
      ],
      "text/plain": [
       "   total_items  subtotal  num_distinct_items  min_item_price  max_item_price  \\\n",
       "0            4      3441                   4             557            1239   \n",
       "1            1      1900                   1            1400            1400   \n",
       "\n",
       "   total_onshift_dashers  total_busy_dashers  total_outstanding_orders  \\\n",
       "0                   33.0                14.0                      21.0   \n",
       "1                    1.0                 2.0                       2.0   \n",
       "\n",
       "   estimated_order_place_duration  \\\n",
       "0                             446   \n",
       "1                             446   \n",
       "\n",
       "   estimated_store_to_consumer_driving_duration  actual_total_delivery_time  \\\n",
       "0                                         861.0                      3779.0   \n",
       "1                                         690.0                      4024.0   \n",
       "\n",
       "   estimated_non_prep_duration  busy_dashers_ratio  \n",
       "0                       1307.0            0.424242  \n",
       "1                       1136.0            2.000000  "
      ]
     },
     "execution_count": 136,
     "metadata": {},
     "output_type": "execute_result"
    }
   ],
   "source": [
    "train_df = df.drop(columns=['market_id','created_at', 'actual_delivery_time', 'store_id',\n",
    "       'store_primary_category', 'order_protocol','nan_free_store_primary_category'])\n",
    "train_df.head(2)"
   ]
  },
  {
   "cell_type": "code",
   "execution_count": 137,
   "id": "325f548b",
   "metadata": {},
   "outputs": [
    {
     "name": "stdout",
     "output_type": "stream",
     "text": [
      "<class 'pandas.core.frame.DataFrame'>\n",
      "RangeIndex: 197428 entries, 0 to 197427\n",
      "Data columns (total 100 columns):\n",
      " #   Column                                        Non-Null Count   Dtype  \n",
      "---  ------                                        --------------   -----  \n",
      " 0   total_items                                   197428 non-null  int64  \n",
      " 1   subtotal                                      197428 non-null  int64  \n",
      " 2   num_distinct_items                            197428 non-null  int64  \n",
      " 3   min_item_price                                197428 non-null  int64  \n",
      " 4   max_item_price                                197428 non-null  int64  \n",
      " 5   total_onshift_dashers                         181166 non-null  float64\n",
      " 6   total_busy_dashers                            181166 non-null  float64\n",
      " 7   total_outstanding_orders                      181166 non-null  float64\n",
      " 8   estimated_order_place_duration                197428 non-null  int64  \n",
      " 9   estimated_store_to_consumer_driving_duration  196902 non-null  float64\n",
      " 10  actual_total_delivery_time                    197421 non-null  float64\n",
      " 11  estimated_non_prep_duration                   196902 non-null  float64\n",
      " 12  busy_dashers_ratio                            177590 non-null  float64\n",
      " 13  market_id_1.0                                 197428 non-null  uint8  \n",
      " 14  market_id_2.0                                 197428 non-null  uint8  \n",
      " 15  market_id_3.0                                 197428 non-null  uint8  \n",
      " 16  market_id_4.0                                 197428 non-null  uint8  \n",
      " 17  market_id_5.0                                 197428 non-null  uint8  \n",
      " 18  market_id_6.0                                 197428 non-null  uint8  \n",
      " 19  order_protocol_1.0                            197428 non-null  uint8  \n",
      " 20  order_protocol_2.0                            197428 non-null  uint8  \n",
      " 21  order_protocol_3.0                            197428 non-null  uint8  \n",
      " 22  order_protocol_4.0                            197428 non-null  uint8  \n",
      " 23  order_protocol_5.0                            197428 non-null  uint8  \n",
      " 24  order_protocol_6.0                            197428 non-null  uint8  \n",
      " 25  order_protocol_7.0                            197428 non-null  uint8  \n",
      " 26  category_afghan                               197428 non-null  uint8  \n",
      " 27  category_african                              197428 non-null  uint8  \n",
      " 28  category_alcohol                              197428 non-null  uint8  \n",
      " 29  category_alcohol-plus-food                    197428 non-null  uint8  \n",
      " 30  category_american                             197428 non-null  uint8  \n",
      " 31  category_argentine                            197428 non-null  uint8  \n",
      " 32  category_asian                                197428 non-null  uint8  \n",
      " 33  category_barbecue                             197428 non-null  uint8  \n",
      " 34  category_belgian                              197428 non-null  uint8  \n",
      " 35  category_brazilian                            197428 non-null  uint8  \n",
      " 36  category_breakfast                            197428 non-null  uint8  \n",
      " 37  category_british                              197428 non-null  uint8  \n",
      " 38  category_bubble-tea                           197428 non-null  uint8  \n",
      " 39  category_burger                               197428 non-null  uint8  \n",
      " 40  category_burmese                              197428 non-null  uint8  \n",
      " 41  category_cafe                                 197428 non-null  uint8  \n",
      " 42  category_cajun                                197428 non-null  uint8  \n",
      " 43  category_caribbean                            197428 non-null  uint8  \n",
      " 44  category_catering                             197428 non-null  uint8  \n",
      " 45  category_cheese                               197428 non-null  uint8  \n",
      " 46  category_chinese                              197428 non-null  uint8  \n",
      " 47  category_chocolate                            197428 non-null  uint8  \n",
      " 48  category_comfort-food                         197428 non-null  uint8  \n",
      " 49  category_convenience-store                    197428 non-null  uint8  \n",
      " 50  category_dessert                              197428 non-null  uint8  \n",
      " 51  category_dim-sum                              197428 non-null  uint8  \n",
      " 52  category_ethiopian                            197428 non-null  uint8  \n",
      " 53  category_european                             197428 non-null  uint8  \n",
      " 54  category_fast                                 197428 non-null  uint8  \n",
      " 55  category_filipino                             197428 non-null  uint8  \n",
      " 56  category_french                               197428 non-null  uint8  \n",
      " 57  category_gastropub                            197428 non-null  uint8  \n",
      " 58  category_german                               197428 non-null  uint8  \n",
      " 59  category_gluten-free                          197428 non-null  uint8  \n",
      " 60  category_greek                                197428 non-null  uint8  \n",
      " 61  category_hawaiian                             197428 non-null  uint8  \n",
      " 62  category_indian                               197428 non-null  uint8  \n",
      " 63  category_indonesian                           197428 non-null  uint8  \n",
      " 64  category_irish                                197428 non-null  uint8  \n",
      " 65  category_italian                              197428 non-null  uint8  \n",
      " 66  category_japanese                             197428 non-null  uint8  \n",
      " 67  category_korean                               197428 non-null  uint8  \n",
      " 68  category_kosher                               197428 non-null  uint8  \n",
      " 69  category_latin-american                       197428 non-null  uint8  \n",
      " 70  category_lebanese                             197428 non-null  uint8  \n",
      " 71  category_malaysian                            197428 non-null  uint8  \n",
      " 72  category_mediterranean                        197428 non-null  uint8  \n",
      " 73  category_mexican                              197428 non-null  uint8  \n",
      " 74  category_middle-eastern                       197428 non-null  uint8  \n",
      " 75  category_moroccan                             197428 non-null  uint8  \n",
      " 76  category_nepalese                             197428 non-null  uint8  \n",
      " 77  category_other                                197428 non-null  uint8  \n",
      " 78  category_pakistani                            197428 non-null  uint8  \n",
      " 79  category_pasta                                197428 non-null  uint8  \n",
      " 80  category_persian                              197428 non-null  uint8  \n",
      " 81  category_peruvian                             197428 non-null  uint8  \n",
      " 82  category_pizza                                197428 non-null  uint8  \n",
      " 83  category_russian                              197428 non-null  uint8  \n",
      " 84  category_salad                                197428 non-null  uint8  \n",
      " 85  category_sandwich                             197428 non-null  uint8  \n",
      " 86  category_seafood                              197428 non-null  uint8  \n",
      " 87  category_singaporean                          197428 non-null  uint8  \n",
      " 88  category_smoothie                             197428 non-null  uint8  \n",
      " 89  category_soup                                 197428 non-null  uint8  \n",
      " 90  category_southern                             197428 non-null  uint8  \n",
      " 91  category_spanish                              197428 non-null  uint8  \n",
      " 92  category_steak                                197428 non-null  uint8  \n",
      " 93  category_sushi                                197428 non-null  uint8  \n",
      " 94  category_tapas                                197428 non-null  uint8  \n",
      " 95  category_thai                                 197428 non-null  uint8  \n",
      " 96  category_turkish                              197428 non-null  uint8  \n",
      " 97  category_vegan                                197428 non-null  uint8  \n",
      " 98  category_vegetarian                           197428 non-null  uint8  \n",
      " 99  category_vietnamese                           197428 non-null  uint8  \n",
      "dtypes: float64(7), int64(6), uint8(87)\n",
      "memory usage: 36.0 MB\n"
     ]
    }
   ],
   "source": [
    "train_df = pd.concat([train_df, market_id_dummies, order_protocol_dummies, store_primary_category_dummies], axis=1)\n",
    "train_df.info()"
   ]
  },
  {
   "cell_type": "code",
   "execution_count": 138,
   "id": "86280b6c",
   "metadata": {
    "scrolled": true
   },
   "outputs": [
    {
     "data": {
      "text/html": [
       "<div>\n",
       "<style scoped>\n",
       "    .dataframe tbody tr th:only-of-type {\n",
       "        vertical-align: middle;\n",
       "    }\n",
       "\n",
       "    .dataframe tbody tr th {\n",
       "        vertical-align: top;\n",
       "    }\n",
       "\n",
       "    .dataframe thead th {\n",
       "        text-align: right;\n",
       "    }\n",
       "</style>\n",
       "<table border=\"1\" class=\"dataframe\">\n",
       "  <thead>\n",
       "    <tr style=\"text-align: right;\">\n",
       "      <th></th>\n",
       "      <th>total_items</th>\n",
       "      <th>subtotal</th>\n",
       "      <th>num_distinct_items</th>\n",
       "      <th>min_item_price</th>\n",
       "      <th>max_item_price</th>\n",
       "      <th>total_onshift_dashers</th>\n",
       "      <th>total_busy_dashers</th>\n",
       "      <th>total_outstanding_orders</th>\n",
       "      <th>estimated_order_place_duration</th>\n",
       "      <th>estimated_store_to_consumer_driving_duration</th>\n",
       "      <th>...</th>\n",
       "      <th>category_southern</th>\n",
       "      <th>category_spanish</th>\n",
       "      <th>category_steak</th>\n",
       "      <th>category_sushi</th>\n",
       "      <th>category_tapas</th>\n",
       "      <th>category_thai</th>\n",
       "      <th>category_turkish</th>\n",
       "      <th>category_vegan</th>\n",
       "      <th>category_vegetarian</th>\n",
       "      <th>category_vietnamese</th>\n",
       "    </tr>\n",
       "  </thead>\n",
       "  <tbody>\n",
       "    <tr>\n",
       "      <th>0</th>\n",
       "      <td>4</td>\n",
       "      <td>3441</td>\n",
       "      <td>4</td>\n",
       "      <td>557</td>\n",
       "      <td>1239</td>\n",
       "      <td>33.0</td>\n",
       "      <td>14.0</td>\n",
       "      <td>21.0</td>\n",
       "      <td>446</td>\n",
       "      <td>861.0</td>\n",
       "      <td>...</td>\n",
       "      <td>0</td>\n",
       "      <td>0</td>\n",
       "      <td>0</td>\n",
       "      <td>0</td>\n",
       "      <td>0</td>\n",
       "      <td>0</td>\n",
       "      <td>0</td>\n",
       "      <td>0</td>\n",
       "      <td>0</td>\n",
       "      <td>0</td>\n",
       "    </tr>\n",
       "    <tr>\n",
       "      <th>1</th>\n",
       "      <td>1</td>\n",
       "      <td>1900</td>\n",
       "      <td>1</td>\n",
       "      <td>1400</td>\n",
       "      <td>1400</td>\n",
       "      <td>1.0</td>\n",
       "      <td>2.0</td>\n",
       "      <td>2.0</td>\n",
       "      <td>446</td>\n",
       "      <td>690.0</td>\n",
       "      <td>...</td>\n",
       "      <td>0</td>\n",
       "      <td>0</td>\n",
       "      <td>0</td>\n",
       "      <td>0</td>\n",
       "      <td>0</td>\n",
       "      <td>0</td>\n",
       "      <td>0</td>\n",
       "      <td>0</td>\n",
       "      <td>0</td>\n",
       "      <td>0</td>\n",
       "    </tr>\n",
       "  </tbody>\n",
       "</table>\n",
       "<p>2 rows × 100 columns</p>\n",
       "</div>"
      ],
      "text/plain": [
       "   total_items  subtotal  num_distinct_items  min_item_price  max_item_price  \\\n",
       "0            4      3441                   4             557            1239   \n",
       "1            1      1900                   1            1400            1400   \n",
       "\n",
       "   total_onshift_dashers  total_busy_dashers  total_outstanding_orders  \\\n",
       "0                   33.0                14.0                      21.0   \n",
       "1                    1.0                 2.0                       2.0   \n",
       "\n",
       "   estimated_order_place_duration  \\\n",
       "0                             446   \n",
       "1                             446   \n",
       "\n",
       "   estimated_store_to_consumer_driving_duration  ...  category_southern  \\\n",
       "0                                         861.0  ...                  0   \n",
       "1                                         690.0  ...                  0   \n",
       "\n",
       "   category_spanish  category_steak  category_sushi  category_tapas  \\\n",
       "0                 0               0               0               0   \n",
       "1                 0               0               0               0   \n",
       "\n",
       "   category_thai  category_turkish  category_vegan  category_vegetarian  \\\n",
       "0              0                 0               0                    0   \n",
       "1              0                 0               0                    0   \n",
       "\n",
       "   category_vietnamese  \n",
       "0                    0  \n",
       "1                    0  \n",
       "\n",
       "[2 rows x 100 columns]"
      ]
     },
     "execution_count": 138,
     "metadata": {},
     "output_type": "execute_result"
    }
   ],
   "source": [
    "train_df.astype('float32')\n",
    "train_df.head(2)"
   ]
  },
  {
   "cell_type": "markdown",
   "id": "f8110017",
   "metadata": {},
   "source": [
    "#### Handle inf and na values"
   ]
  },
  {
   "cell_type": "markdown",
   "id": "f8217aeb",
   "metadata": {},
   "source": [
    "We check for inf values in busy_dashers_ratio because the ratio was calculated by diving operation. Therefore somestime output will be inf if number is positive and -inf if number is negative"
   ]
  },
  {
   "cell_type": "code",
   "execution_count": 139,
   "id": "72d54ce3",
   "metadata": {
    "scrolled": true
   },
   "outputs": [
    {
     "data": {
      "text/plain": [
       "count    1.775900e+05\n",
       "mean              NaN\n",
       "std               NaN\n",
       "min              -inf\n",
       "25%      8.269231e-01\n",
       "50%      9.622642e-01\n",
       "75%      1.000000e+00\n",
       "max               inf\n",
       "Name: busy_dashers_ratio, dtype: float64"
      ]
     },
     "execution_count": 139,
     "metadata": {},
     "output_type": "execute_result"
    }
   ],
   "source": [
    "train_df['busy_dashers_ratio'].describe()"
   ]
  },
  {
   "cell_type": "code",
   "execution_count": 140,
   "id": "3453f4a4",
   "metadata": {},
   "outputs": [
    {
     "data": {
      "text/plain": [
       "(array([ 5,  6,  7,  9, 10, 11, 12], dtype=int64),)"
      ]
     },
     "execution_count": 140,
     "metadata": {},
     "output_type": "execute_result"
    }
   ],
   "source": [
    "np.where(np.any(~np.isfinite(train_df), axis=0)==True)"
   ]
  },
  {
   "cell_type": "code",
   "execution_count": 141,
   "id": "d7731fa2",
   "metadata": {},
   "outputs": [
    {
     "data": {
      "text/plain": [
       "(177070, 100)"
      ]
     },
     "execution_count": 141,
     "metadata": {},
     "output_type": "execute_result"
    }
   ],
   "source": [
    "train_df.replace([np.inf, -np.inf], np.nan, inplace=True)\n",
    "train_df.dropna(inplace=True)\n",
    "train_df.shape"
   ]
  },
  {
   "cell_type": "code",
   "execution_count": 101,
   "id": "4ccf8c1a",
   "metadata": {},
   "outputs": [
    {
     "data": {
      "text/plain": [
       "0"
      ]
     },
     "execution_count": 101,
     "metadata": {},
     "output_type": "execute_result"
    }
   ],
   "source": [
    "train_df.isna().sum().sum()"
   ]
  },
  {
   "cell_type": "markdown",
   "id": "4e10edbd",
   "metadata": {},
   "source": [
    "## 2. COLLINEARITY AND REMOVING REDUNDANCIES"
   ]
  },
  {
   "cell_type": "markdown",
   "id": "879fbee0",
   "metadata": {},
   "source": [
    "Check for Collinearity when two or more predictor variables are highly correlated with each other"
   ]
  },
  {
   "cell_type": "markdown",
   "id": "8086b88c",
   "metadata": {},
   "source": [
    "#### Create heatmap with mask"
   ]
  },
  {
   "cell_type": "code",
   "execution_count": 103,
   "id": "32c25530",
   "metadata": {},
   "outputs": [
    {
     "data": {
      "text/plain": [
       "<Axes: >"
      ]
     },
     "execution_count": 103,
     "metadata": {},
     "output_type": "execute_result"
    },
    {
     "data": {
      "image/png": "[encoded data removed]",
      "text/plain": [
       "<Figure size 1100x900 with 2 Axes>"
      ]
     },
     "metadata": {},
     "output_type": "display_data"
    }
   ],
   "source": [
    "corr = train_df.corr()\n",
    "mask = np.triu(np.ones_like(corr, dtype=bool))\n",
    "\n",
    "f, ax = plt.subplots(figsize=(11,9))\n",
    "cmap = sns.diverging_palette(230, 20, as_cmap=True)\n",
    "\n",
    "sns.heatmap(corr, mask=mask, cmap=cmap, vmax=.3, center=0,\n",
    "            square=True, linewidths=.5, cbar_kws={\"shrink\": .5})"
   ]
  },
  {
   "cell_type": "markdown",
   "id": "a2dda0f2",
   "metadata": {},
   "source": [
    "There seems to be an issue with category_indonesian"
   ]
  },
  {
   "cell_type": "code",
   "execution_count": 104,
   "id": "114c81c5",
   "metadata": {
    "scrolled": true
   },
   "outputs": [
    {
     "data": {
      "text/plain": [
       "count    177070.0\n",
       "mean          0.0\n",
       "std           0.0\n",
       "min           0.0\n",
       "25%           0.0\n",
       "50%           0.0\n",
       "75%           0.0\n",
       "max           0.0\n",
       "Name: category_indonesian, dtype: float64"
      ]
     },
     "execution_count": 104,
     "metadata": {},
     "output_type": "execute_result"
    }
   ],
   "source": [
    "train_df['category_indonesian'].describe()"
   ]
  },
  {
   "cell_type": "markdown",
   "id": "b84002ed",
   "metadata": {},
   "source": [
    "It has 177,070 zeros, so we can drop this one."
   ]
  },
  {
   "cell_type": "code",
   "execution_count": 142,
   "id": "dbab3932",
   "metadata": {},
   "outputs": [],
   "source": [
    "train_df.drop('category_indonesian', axis=1, inplace=True)"
   ]
  },
  {
   "cell_type": "markdown",
   "id": "63ff9a1e",
   "metadata": {},
   "source": [
    "#### Removing redundant pairs"
   ]
  },
  {
   "cell_type": "code",
   "execution_count": 143,
   "id": "b7945d4b",
   "metadata": {},
   "outputs": [],
   "source": [
    "def get_redundant_pairs(df):\n",
    "    cols = df.columns\n",
    "    pairs = set()\n",
    "    for i in range(0, df.shape[1]):\n",
    "        for j in range(0, i+1):\n",
    "            pairs.add((cols[i], cols[j]))\n",
    "    return pairs"
   ]
  },
  {
   "cell_type": "code",
   "execution_count": 144,
   "id": "c42e26de",
   "metadata": {},
   "outputs": [],
   "source": [
    "def get_top_abs_corr(df, n=5):\n",
    "    au_corr = df.corr().abs().unstack()\n",
    "    labels_to_drop = get_redundant_pairs(df)\n",
    "    au_corr = au_corr.drop(labels=labels_to_drop).sort_values(ascending=False)\n",
    "    return au_corr[0:n]"
   ]
  },
  {
   "cell_type": "code",
   "execution_count": 145,
   "id": "b5af3698",
   "metadata": {
    "scrolled": true
   },
   "outputs": [
    {
     "name": "stdout",
     "output_type": "stream",
     "text": [
      "Top Absolute Correlation\n",
      "total_onshift_dashers                         total_busy_dashers             0.941741\n",
      "                                              total_outstanding_orders       0.934639\n",
      "total_busy_dashers                            total_outstanding_orders       0.931295\n",
      "estimated_store_to_consumer_driving_duration  estimated_non_prep_duration    0.923086\n",
      "estimated_order_place_duration                order_protocol_1.0             0.897645\n",
      "total_items                                   num_distinct_items             0.758146\n",
      "subtotal                                      num_distinct_items             0.682890\n",
      "total_items                                   subtotal                       0.557175\n",
      "min_item_price                                max_item_price                 0.541241\n",
      "subtotal                                      max_item_price                 0.507947\n",
      "order_protocol_4.0                            category_fast                  0.489946\n",
      "num_distinct_items                            min_item_price                 0.446733\n",
      "market_id_2.0                                 market_id_4.0                  0.402421\n",
      "total_items                                   min_item_price                 0.389277\n",
      "order_protocol_1.0                            order_protocol_3.0             0.373581\n",
      "estimated_order_place_duration                order_protocol_3.0             0.364170\n",
      "                                              estimated_non_prep_duration    0.363297\n",
      "order_protocol_1.0                            order_protocol_5.0             0.342345\n",
      "market_id_1.0                                 market_id_2.0                  0.334580\n",
      "estimated_order_place_duration                order_protocol_5.0             0.333291\n",
      "dtype: float64\n"
     ]
    }
   ],
   "source": [
    "print('Top Absolute Correlation')\n",
    "print(get_top_abs_corr(train_df, 20))"
   ]
  },
  {
   "cell_type": "markdown",
   "id": "ed3535fc",
   "metadata": {},
   "source": [
    "There are many pairs that have high correlations which may cause collinearity. We should find the best model that avoids correlation. First, let's concat order_protocol_dummies only"
   ]
  },
  {
   "cell_type": "code",
   "execution_count": 119,
   "id": "945dad64",
   "metadata": {},
   "outputs": [
    {
     "data": {
      "text/html": [
       "<div>\n",
       "<style scoped>\n",
       "    .dataframe tbody tr th:only-of-type {\n",
       "        vertical-align: middle;\n",
       "    }\n",
       "\n",
       "    .dataframe tbody tr th {\n",
       "        vertical-align: top;\n",
       "    }\n",
       "\n",
       "    .dataframe thead th {\n",
       "        text-align: right;\n",
       "    }\n",
       "</style>\n",
       "<table border=\"1\" class=\"dataframe\">\n",
       "  <thead>\n",
       "    <tr style=\"text-align: right;\">\n",
       "      <th></th>\n",
       "      <th>total_items</th>\n",
       "      <th>subtotal</th>\n",
       "      <th>num_distinct_items</th>\n",
       "      <th>min_item_price</th>\n",
       "      <th>max_item_price</th>\n",
       "      <th>total_outstanding_orders</th>\n",
       "      <th>estimated_order_place_duration</th>\n",
       "      <th>estimated_store_to_consumer_driving_duration</th>\n",
       "      <th>actual_total_delivery_time</th>\n",
       "      <th>busy_dashers_ratio</th>\n",
       "      <th>order_protocol_1.0</th>\n",
       "      <th>order_protocol_2.0</th>\n",
       "      <th>order_protocol_3.0</th>\n",
       "      <th>order_protocol_4.0</th>\n",
       "      <th>order_protocol_5.0</th>\n",
       "      <th>order_protocol_6.0</th>\n",
       "      <th>order_protocol_7.0</th>\n",
       "    </tr>\n",
       "  </thead>\n",
       "  <tbody>\n",
       "    <tr>\n",
       "      <th>0</th>\n",
       "      <td>4.0</td>\n",
       "      <td>3441.0</td>\n",
       "      <td>4.0</td>\n",
       "      <td>557.0</td>\n",
       "      <td>1239.0</td>\n",
       "      <td>21.0</td>\n",
       "      <td>446.0</td>\n",
       "      <td>861.0</td>\n",
       "      <td>3779.0</td>\n",
       "      <td>0.424242</td>\n",
       "      <td>1.0</td>\n",
       "      <td>0.0</td>\n",
       "      <td>0.0</td>\n",
       "      <td>0.0</td>\n",
       "      <td>0.0</td>\n",
       "      <td>0.0</td>\n",
       "      <td>0.0</td>\n",
       "    </tr>\n",
       "    <tr>\n",
       "      <th>1</th>\n",
       "      <td>1.0</td>\n",
       "      <td>1900.0</td>\n",
       "      <td>1.0</td>\n",
       "      <td>1400.0</td>\n",
       "      <td>1400.0</td>\n",
       "      <td>2.0</td>\n",
       "      <td>446.0</td>\n",
       "      <td>690.0</td>\n",
       "      <td>4024.0</td>\n",
       "      <td>2.000000</td>\n",
       "      <td>0.0</td>\n",
       "      <td>1.0</td>\n",
       "      <td>0.0</td>\n",
       "      <td>0.0</td>\n",
       "      <td>0.0</td>\n",
       "      <td>0.0</td>\n",
       "      <td>0.0</td>\n",
       "    </tr>\n",
       "    <tr>\n",
       "      <th>2</th>\n",
       "      <td>1.0</td>\n",
       "      <td>1900.0</td>\n",
       "      <td>1.0</td>\n",
       "      <td>1900.0</td>\n",
       "      <td>1900.0</td>\n",
       "      <td>0.0</td>\n",
       "      <td>446.0</td>\n",
       "      <td>690.0</td>\n",
       "      <td>1781.0</td>\n",
       "      <td>0.000000</td>\n",
       "      <td>1.0</td>\n",
       "      <td>0.0</td>\n",
       "      <td>0.0</td>\n",
       "      <td>0.0</td>\n",
       "      <td>0.0</td>\n",
       "      <td>0.0</td>\n",
       "      <td>0.0</td>\n",
       "    </tr>\n",
       "    <tr>\n",
       "      <th>3</th>\n",
       "      <td>6.0</td>\n",
       "      <td>6900.0</td>\n",
       "      <td>5.0</td>\n",
       "      <td>600.0</td>\n",
       "      <td>1800.0</td>\n",
       "      <td>2.0</td>\n",
       "      <td>446.0</td>\n",
       "      <td>289.0</td>\n",
       "      <td>3075.0</td>\n",
       "      <td>1.000000</td>\n",
       "      <td>1.0</td>\n",
       "      <td>0.0</td>\n",
       "      <td>0.0</td>\n",
       "      <td>0.0</td>\n",
       "      <td>0.0</td>\n",
       "      <td>0.0</td>\n",
       "      <td>0.0</td>\n",
       "    </tr>\n",
       "    <tr>\n",
       "      <th>4</th>\n",
       "      <td>3.0</td>\n",
       "      <td>3900.0</td>\n",
       "      <td>3.0</td>\n",
       "      <td>1100.0</td>\n",
       "      <td>1600.0</td>\n",
       "      <td>9.0</td>\n",
       "      <td>446.0</td>\n",
       "      <td>650.0</td>\n",
       "      <td>2390.0</td>\n",
       "      <td>1.000000</td>\n",
       "      <td>1.0</td>\n",
       "      <td>0.0</td>\n",
       "      <td>0.0</td>\n",
       "      <td>0.0</td>\n",
       "      <td>0.0</td>\n",
       "      <td>0.0</td>\n",
       "      <td>0.0</td>\n",
       "    </tr>\n",
       "  </tbody>\n",
       "</table>\n",
       "</div>"
      ],
      "text/plain": [
       "   total_items  subtotal  num_distinct_items  min_item_price  max_item_price  \\\n",
       "0          4.0    3441.0                 4.0           557.0          1239.0   \n",
       "1          1.0    1900.0                 1.0          1400.0          1400.0   \n",
       "2          1.0    1900.0                 1.0          1900.0          1900.0   \n",
       "3          6.0    6900.0                 5.0           600.0          1800.0   \n",
       "4          3.0    3900.0                 3.0          1100.0          1600.0   \n",
       "\n",
       "   total_outstanding_orders  estimated_order_place_duration  \\\n",
       "0                      21.0                           446.0   \n",
       "1                       2.0                           446.0   \n",
       "2                       0.0                           446.0   \n",
       "3                       2.0                           446.0   \n",
       "4                       9.0                           446.0   \n",
       "\n",
       "   estimated_store_to_consumer_driving_duration  actual_total_delivery_time  \\\n",
       "0                                         861.0                      3779.0   \n",
       "1                                         690.0                      4024.0   \n",
       "2                                         690.0                      1781.0   \n",
       "3                                         289.0                      3075.0   \n",
       "4                                         650.0                      2390.0   \n",
       "\n",
       "   busy_dashers_ratio  order_protocol_1.0  order_protocol_2.0  \\\n",
       "0            0.424242                 1.0                 0.0   \n",
       "1            2.000000                 0.0                 1.0   \n",
       "2            0.000000                 1.0                 0.0   \n",
       "3            1.000000                 1.0                 0.0   \n",
       "4            1.000000                 1.0                 0.0   \n",
       "\n",
       "   order_protocol_3.0  order_protocol_4.0  order_protocol_5.0  \\\n",
       "0                 0.0                 0.0                 0.0   \n",
       "1                 0.0                 0.0                 0.0   \n",
       "2                 0.0                 0.0                 0.0   \n",
       "3                 0.0                 0.0                 0.0   \n",
       "4                 0.0                 0.0                 0.0   \n",
       "\n",
       "   order_protocol_6.0  order_protocol_7.0  \n",
       "0                 0.0                 0.0  \n",
       "1                 0.0                 0.0  \n",
       "2                 0.0                 0.0  \n",
       "3                 0.0                 0.0  \n",
       "4                 0.0                 0.0  "
      ]
     },
     "execution_count": 119,
     "metadata": {},
     "output_type": "execute_result"
    }
   ],
   "source": [
    "train_df = df.drop(columns=[\"created_at\", \"market_id\", \"store_id\", \"store_primary_category\", \"actual_delivery_time\", \n",
    "                                        \"nan_free_store_primary_category\", \"order_protocol\"])\n",
    "train_df = pd.concat([train_df, order_protocol_dummies], axis=1)\n",
    "train_df = train_df.drop(columns=[\"total_onshift_dashers\", \"total_busy_dashers\", \"estimated_non_prep_duration\"])\n",
    "train_df = train_df.astype('float32')\n",
    "\n",
    "train_df.replace([np.inf, -np.inf], np.nan, inplace=True)\n",
    "train_df.dropna(inplace=True)\n",
    "train_df.head()"
   ]
  },
  {
   "cell_type": "code",
   "execution_count": 120,
   "id": "17292b71",
   "metadata": {
    "scrolled": true
   },
   "outputs": [
    {
     "name": "stdout",
     "output_type": "stream",
     "text": [
      "Top Absolute Correlation\n",
      "estimated_order_place_duration  order_protocol_1.0    0.897645\n",
      "total_items                     num_distinct_items    0.758146\n",
      "subtotal                        num_distinct_items    0.682890\n",
      "total_items                     subtotal              0.557175\n",
      "min_item_price                  max_item_price        0.541241\n",
      "subtotal                        max_item_price        0.507947\n",
      "num_distinct_items              min_item_price        0.446733\n",
      "total_items                     min_item_price        0.389277\n",
      "order_protocol_1.0              order_protocol_3.0    0.373581\n",
      "estimated_order_place_duration  order_protocol_3.0    0.364170\n",
      "order_protocol_1.0              order_protocol_5.0    0.342345\n",
      "estimated_order_place_duration  order_protocol_5.0    0.333291\n",
      "order_protocol_3.0              order_protocol_5.0    0.332533\n",
      "order_protocol_1.0              order_protocol_2.0    0.226903\n",
      "estimated_order_place_duration  order_protocol_2.0    0.221215\n",
      "order_protocol_2.0              order_protocol_3.0    0.220400\n",
      "max_item_price                  order_protocol_4.0    0.215624\n",
      "order_protocol_1.0              order_protocol_4.0    0.202151\n",
      "order_protocol_2.0              order_protocol_5.0    0.201972\n",
      "order_protocol_3.0              order_protocol_4.0    0.196357\n",
      "dtype: float64\n"
     ]
    }
   ],
   "source": [
    "print('Top Absolute Correlation')\n",
    "print(get_top_abs_corr(train_df, 20))"
   ]
  },
  {
   "cell_type": "markdown",
   "id": "240c6797",
   "metadata": {},
   "source": [
    "Now, let’s concatenate the dummies without adding order_protocol_dummies."
   ]
  },
  {
   "cell_type": "code",
   "execution_count": 146,
   "id": "da044134",
   "metadata": {},
   "outputs": [
    {
     "data": {
      "text/html": [
       "<div>\n",
       "<style scoped>\n",
       "    .dataframe tbody tr th:only-of-type {\n",
       "        vertical-align: middle;\n",
       "    }\n",
       "\n",
       "    .dataframe tbody tr th {\n",
       "        vertical-align: top;\n",
       "    }\n",
       "\n",
       "    .dataframe thead th {\n",
       "        text-align: right;\n",
       "    }\n",
       "</style>\n",
       "<table border=\"1\" class=\"dataframe\">\n",
       "  <thead>\n",
       "    <tr style=\"text-align: right;\">\n",
       "      <th></th>\n",
       "      <th>total_items</th>\n",
       "      <th>subtotal</th>\n",
       "      <th>num_distinct_items</th>\n",
       "      <th>min_item_price</th>\n",
       "      <th>max_item_price</th>\n",
       "      <th>total_outstanding_orders</th>\n",
       "      <th>estimated_order_place_duration</th>\n",
       "      <th>estimated_store_to_consumer_driving_duration</th>\n",
       "      <th>actual_total_delivery_time</th>\n",
       "      <th>busy_dashers_ratio</th>\n",
       "      <th>...</th>\n",
       "      <th>category_southern</th>\n",
       "      <th>category_spanish</th>\n",
       "      <th>category_steak</th>\n",
       "      <th>category_sushi</th>\n",
       "      <th>category_tapas</th>\n",
       "      <th>category_thai</th>\n",
       "      <th>category_turkish</th>\n",
       "      <th>category_vegan</th>\n",
       "      <th>category_vegetarian</th>\n",
       "      <th>category_vietnamese</th>\n",
       "    </tr>\n",
       "  </thead>\n",
       "  <tbody>\n",
       "    <tr>\n",
       "      <th>0</th>\n",
       "      <td>4.0</td>\n",
       "      <td>3441.0</td>\n",
       "      <td>4.0</td>\n",
       "      <td>557.0</td>\n",
       "      <td>1239.0</td>\n",
       "      <td>21.0</td>\n",
       "      <td>446.0</td>\n",
       "      <td>861.0</td>\n",
       "      <td>3779.0</td>\n",
       "      <td>0.424242</td>\n",
       "      <td>...</td>\n",
       "      <td>0.0</td>\n",
       "      <td>0.0</td>\n",
       "      <td>0.0</td>\n",
       "      <td>0.0</td>\n",
       "      <td>0.0</td>\n",
       "      <td>0.0</td>\n",
       "      <td>0.0</td>\n",
       "      <td>0.0</td>\n",
       "      <td>0.0</td>\n",
       "      <td>0.0</td>\n",
       "    </tr>\n",
       "    <tr>\n",
       "      <th>1</th>\n",
       "      <td>1.0</td>\n",
       "      <td>1900.0</td>\n",
       "      <td>1.0</td>\n",
       "      <td>1400.0</td>\n",
       "      <td>1400.0</td>\n",
       "      <td>2.0</td>\n",
       "      <td>446.0</td>\n",
       "      <td>690.0</td>\n",
       "      <td>4024.0</td>\n",
       "      <td>2.000000</td>\n",
       "      <td>...</td>\n",
       "      <td>0.0</td>\n",
       "      <td>0.0</td>\n",
       "      <td>0.0</td>\n",
       "      <td>0.0</td>\n",
       "      <td>0.0</td>\n",
       "      <td>0.0</td>\n",
       "      <td>0.0</td>\n",
       "      <td>0.0</td>\n",
       "      <td>0.0</td>\n",
       "      <td>0.0</td>\n",
       "    </tr>\n",
       "    <tr>\n",
       "      <th>2</th>\n",
       "      <td>1.0</td>\n",
       "      <td>1900.0</td>\n",
       "      <td>1.0</td>\n",
       "      <td>1900.0</td>\n",
       "      <td>1900.0</td>\n",
       "      <td>0.0</td>\n",
       "      <td>446.0</td>\n",
       "      <td>690.0</td>\n",
       "      <td>1781.0</td>\n",
       "      <td>0.000000</td>\n",
       "      <td>...</td>\n",
       "      <td>0.0</td>\n",
       "      <td>0.0</td>\n",
       "      <td>0.0</td>\n",
       "      <td>0.0</td>\n",
       "      <td>0.0</td>\n",
       "      <td>0.0</td>\n",
       "      <td>0.0</td>\n",
       "      <td>0.0</td>\n",
       "      <td>0.0</td>\n",
       "      <td>0.0</td>\n",
       "    </tr>\n",
       "    <tr>\n",
       "      <th>3</th>\n",
       "      <td>6.0</td>\n",
       "      <td>6900.0</td>\n",
       "      <td>5.0</td>\n",
       "      <td>600.0</td>\n",
       "      <td>1800.0</td>\n",
       "      <td>2.0</td>\n",
       "      <td>446.0</td>\n",
       "      <td>289.0</td>\n",
       "      <td>3075.0</td>\n",
       "      <td>1.000000</td>\n",
       "      <td>...</td>\n",
       "      <td>0.0</td>\n",
       "      <td>0.0</td>\n",
       "      <td>0.0</td>\n",
       "      <td>0.0</td>\n",
       "      <td>0.0</td>\n",
       "      <td>0.0</td>\n",
       "      <td>0.0</td>\n",
       "      <td>0.0</td>\n",
       "      <td>0.0</td>\n",
       "      <td>0.0</td>\n",
       "    </tr>\n",
       "    <tr>\n",
       "      <th>4</th>\n",
       "      <td>3.0</td>\n",
       "      <td>3900.0</td>\n",
       "      <td>3.0</td>\n",
       "      <td>1100.0</td>\n",
       "      <td>1600.0</td>\n",
       "      <td>9.0</td>\n",
       "      <td>446.0</td>\n",
       "      <td>650.0</td>\n",
       "      <td>2390.0</td>\n",
       "      <td>1.000000</td>\n",
       "      <td>...</td>\n",
       "      <td>0.0</td>\n",
       "      <td>0.0</td>\n",
       "      <td>0.0</td>\n",
       "      <td>0.0</td>\n",
       "      <td>0.0</td>\n",
       "      <td>0.0</td>\n",
       "      <td>0.0</td>\n",
       "      <td>0.0</td>\n",
       "      <td>0.0</td>\n",
       "      <td>0.0</td>\n",
       "    </tr>\n",
       "  </tbody>\n",
       "</table>\n",
       "<p>5 rows × 83 columns</p>\n",
       "</div>"
      ],
      "text/plain": [
       "   total_items  subtotal  num_distinct_items  min_item_price  max_item_price  \\\n",
       "0          4.0    3441.0                 4.0           557.0          1239.0   \n",
       "1          1.0    1900.0                 1.0          1400.0          1400.0   \n",
       "2          1.0    1900.0                 1.0          1900.0          1900.0   \n",
       "3          6.0    6900.0                 5.0           600.0          1800.0   \n",
       "4          3.0    3900.0                 3.0          1100.0          1600.0   \n",
       "\n",
       "   total_outstanding_orders  estimated_order_place_duration  \\\n",
       "0                      21.0                           446.0   \n",
       "1                       2.0                           446.0   \n",
       "2                       0.0                           446.0   \n",
       "3                       2.0                           446.0   \n",
       "4                       9.0                           446.0   \n",
       "\n",
       "   estimated_store_to_consumer_driving_duration  actual_total_delivery_time  \\\n",
       "0                                         861.0                      3779.0   \n",
       "1                                         690.0                      4024.0   \n",
       "2                                         690.0                      1781.0   \n",
       "3                                         289.0                      3075.0   \n",
       "4                                         650.0                      2390.0   \n",
       "\n",
       "   busy_dashers_ratio  ...  category_southern  category_spanish  \\\n",
       "0            0.424242  ...                0.0               0.0   \n",
       "1            2.000000  ...                0.0               0.0   \n",
       "2            0.000000  ...                0.0               0.0   \n",
       "3            1.000000  ...                0.0               0.0   \n",
       "4            1.000000  ...                0.0               0.0   \n",
       "\n",
       "   category_steak  category_sushi  category_tapas  category_thai  \\\n",
       "0             0.0             0.0             0.0            0.0   \n",
       "1             0.0             0.0             0.0            0.0   \n",
       "2             0.0             0.0             0.0            0.0   \n",
       "3             0.0             0.0             0.0            0.0   \n",
       "4             0.0             0.0             0.0            0.0   \n",
       "\n",
       "   category_turkish  category_vegan  category_vegetarian  category_vietnamese  \n",
       "0               0.0             0.0                  0.0                  0.0  \n",
       "1               0.0             0.0                  0.0                  0.0  \n",
       "2               0.0             0.0                  0.0                  0.0  \n",
       "3               0.0             0.0                  0.0                  0.0  \n",
       "4               0.0             0.0                  0.0                  0.0  \n",
       "\n",
       "[5 rows x 83 columns]"
      ]
     },
     "execution_count": 146,
     "metadata": {},
     "output_type": "execute_result"
    }
   ],
   "source": [
    "train_df = df.drop(columns=[\"created_at\", \"market_id\", \"store_id\", \"store_primary_category\", \"actual_delivery_time\", \n",
    "                                        \"nan_free_store_primary_category\", \"order_protocol\"])\n",
    "train_df = pd.concat([train_df, store_primary_category_dummies], axis=1)\n",
    "train_df = train_df.drop(columns=[\"total_onshift_dashers\", \"total_busy_dashers\",\n",
    "   \"category_indonesian\", \"estimated_non_prep_duration\"])\n",
    "train_df = train_df.astype('float32')\n",
    "\n",
    "train_df.replace([np.inf, -np.inf], np.nan, inplace=True)\n",
    "train_df.dropna(inplace=True)\n",
    "train_df.head()"
   ]
  },
  {
   "cell_type": "code",
   "execution_count": 147,
   "id": "dd05aeba",
   "metadata": {},
   "outputs": [
    {
     "name": "stdout",
     "output_type": "stream",
     "text": [
      "Top Absolute Correlation\n",
      "total_items                                   num_distinct_items                0.758146\n",
      "subtotal                                      num_distinct_items                0.682890\n",
      "total_items                                   subtotal                          0.557175\n",
      "min_item_price                                max_item_price                    0.541241\n",
      "subtotal                                      max_item_price                    0.507947\n",
      "num_distinct_items                            min_item_price                    0.446733\n",
      "total_items                                   min_item_price                    0.389277\n",
      "estimated_store_to_consumer_driving_duration  actual_total_delivery_time        0.188418\n",
      "subtotal                                      actual_total_delivery_time        0.172312\n",
      "total_outstanding_orders                      estimated_order_place_duration    0.171049\n",
      "total_items                                   category_fast                     0.170988\n",
      "max_item_price                                category_italian                  0.169775\n",
      "                                              category_fast                     0.166169\n",
      "total_outstanding_orders                      actual_total_delivery_time        0.157604\n",
      "max_item_price                                category_pizza                    0.157577\n",
      "estimated_order_place_duration                category_american                 0.150174\n",
      "min_item_price                                category_pizza                    0.149584\n",
      "subtotal                                      total_outstanding_orders          0.131115\n",
      "max_item_price                                total_outstanding_orders          0.129542\n",
      "min_item_price                                category_fast                     0.127969\n",
      "dtype: float64\n"
     ]
    }
   ],
   "source": [
    "print('Top Absolute Correlation')\n",
    "print(get_top_abs_corr(train_df, 20))"
   ]
  },
  {
   "cell_type": "markdown",
   "id": "4355f7bd",
   "metadata": {},
   "source": [
    "#### Create New Features To Overcome The Multicollinearity Issues"
   ]
  },
  {
   "cell_type": "code",
   "execution_count": 148,
   "id": "ba04867d",
   "metadata": {},
   "outputs": [
    {
     "name": "stdout",
     "output_type": "stream",
     "text": [
      "Top Absolute Correlation\n",
      "min_item_price                                avg_price_per_item                0.860580\n",
      "max_item_price                                avg_price_per_item                0.770382\n",
      "min_item_price                                max_item_price                    0.541241\n",
      "total_items                                   percent_distinct_item_of_total    0.445751\n",
      "                                              min_item_price                    0.389277\n",
      "                                              avg_price_per_item                0.310759\n",
      "percent_distinct_item_of_total                avg_price_per_item                0.226711\n",
      "category_pizza                                avg_price_per_item                0.225510\n",
      "estimated_store_to_consumer_driving_duration  actual_total_delivery_time        0.188418\n",
      "max_item_price                                percent_distinct_item_of_total    0.178021\n",
      "category_fast                                 avg_price_per_item                0.175950\n",
      "min_item_price                                percent_distinct_item_of_total    0.173524\n",
      "total_outstanding_orders                      estimated_order_place_duration    0.171049\n",
      "total_items                                   category_fast                     0.170988\n",
      "max_item_price                                category_italian                  0.169775\n",
      "                                              category_fast                     0.166169\n",
      "category_italian                              avg_price_per_item                0.158193\n",
      "total_outstanding_orders                      actual_total_delivery_time        0.157604\n",
      "max_item_price                                category_pizza                    0.157577\n",
      "category_fast                                 percent_distinct_item_of_total    0.153614\n",
      "dtype: float64\n"
     ]
    }
   ],
   "source": [
    "train_df['percent_distinct_item_of_total'] = train_df['num_distinct_items']/train_df['total_items']\n",
    "train_df['avg_price_per_item'] = train_df['subtotal']/train_df['total_items']\n",
    "train_df.drop(columns=['num_distinct_items', 'subtotal'], axis=1, inplace=True)\n",
    "\n",
    "print('Top Absolute Correlation')\n",
    "print(get_top_abs_corr(train_df, 20))"
   ]
  },
  {
   "cell_type": "code",
   "execution_count": 149,
   "id": "bc0cd81b",
   "metadata": {},
   "outputs": [
    {
     "name": "stdout",
     "output_type": "stream",
     "text": [
      "Top Absolute Correlation\n",
      "total_items                                   percent_distinct_item_of_total    0.445751\n",
      "                                              price_range_of_items              0.333304\n",
      "                                              avg_price_per_item                0.310759\n",
      "percent_distinct_item_of_total                avg_price_per_item                0.226711\n",
      "category_pizza                                avg_price_per_item                0.225510\n",
      "estimated_store_to_consumer_driving_duration  actual_total_delivery_time        0.188418\n",
      "category_fast                                 avg_price_per_item                0.175950\n",
      "total_outstanding_orders                      estimated_order_place_duration    0.171049\n",
      "total_items                                   category_fast                     0.170988\n",
      "category_italian                              avg_price_per_item                0.158193\n",
      "total_outstanding_orders                      actual_total_delivery_time        0.157604\n",
      "category_fast                                 percent_distinct_item_of_total    0.153614\n",
      "estimated_order_place_duration                category_american                 0.150174\n",
      "category_american                             category_pizza                    0.106998\n",
      "estimated_order_place_duration                category_fast                     0.106739\n",
      "category_american                             category_mexican                  0.106459\n",
      "actual_total_delivery_time                    price_range_of_items              0.104689\n",
      "category_burger                               avg_price_per_item                0.104437\n",
      "total_outstanding_orders                      price_range_of_items              0.100228\n",
      "category_mexican                              category_pizza                    0.097818\n",
      "dtype: float64\n"
     ]
    }
   ],
   "source": [
    "train_df['price_range_of_items'] = train_df['max_item_price'] - train_df['min_item_price']\n",
    "train_df.drop(columns=['max_item_price', 'min_item_price'], inplace=True)\n",
    "print('Top Absolute Correlation')\n",
    "print(get_top_abs_corr(train_df, 20))"
   ]
  },
  {
   "cell_type": "code",
   "execution_count": 150,
   "id": "bfa86ae0",
   "metadata": {},
   "outputs": [
    {
     "data": {
      "text/plain": [
       "(177070, 82)"
      ]
     },
     "execution_count": 150,
     "metadata": {},
     "output_type": "execute_result"
    }
   ],
   "source": [
    "train_df.shape"
   ]
  },
  {
   "cell_type": "markdown",
   "id": "2559b2f1",
   "metadata": {},
   "source": [
    "\n",
    "## 3. MULTICOLLINEARITY AND FEATURE SELECTION"
   ]
  },
  {
   "cell_type": "markdown",
   "id": "7d26a796",
   "metadata": {},
   "source": [
    "#### Identifying multicollinearity using Variance Inflation Factor (VIF) method"
   ]
  },
  {
   "cell_type": "code",
   "execution_count": 154,
   "id": "43506943",
   "metadata": {},
   "outputs": [],
   "source": [
    "from statsmodels.stats.outliers_influence import variance_inflation_factor\n",
    "\n",
    "def compute_vif(features):\n",
    "    vif_data = pd.DataFrame()\n",
    "    vif_data['feature']=features\n",
    "    vif_data['VIF']=[variance_inflation_factor(train_df[features].values, i) for i in range(len(features))]\n",
    "    return vif_data.sort_values(by='VIF').reset_index(drop=True)"
   ]
  },
  {
   "cell_type": "code",
   "execution_count": 156,
   "id": "8d868fde",
   "metadata": {},
   "outputs": [
    {
     "data": {
      "text/html": [
       "<div>\n",
       "<style scoped>\n",
       "    .dataframe tbody tr th:only-of-type {\n",
       "        vertical-align: middle;\n",
       "    }\n",
       "\n",
       "    .dataframe tbody tr th {\n",
       "        vertical-align: top;\n",
       "    }\n",
       "\n",
       "    .dataframe thead th {\n",
       "        text-align: right;\n",
       "    }\n",
       "</style>\n",
       "<table border=\"1\" class=\"dataframe\">\n",
       "  <thead>\n",
       "    <tr style=\"text-align: right;\">\n",
       "      <th></th>\n",
       "      <th>feature</th>\n",
       "      <th>VIF</th>\n",
       "    </tr>\n",
       "  </thead>\n",
       "  <tbody>\n",
       "    <tr>\n",
       "      <th>0</th>\n",
       "      <td>category_alcohol-plus-food</td>\n",
       "      <td>1.000371</td>\n",
       "    </tr>\n",
       "    <tr>\n",
       "      <th>1</th>\n",
       "      <td>category_chocolate</td>\n",
       "      <td>1.000493</td>\n",
       "    </tr>\n",
       "    <tr>\n",
       "      <th>2</th>\n",
       "      <td>category_belgian</td>\n",
       "      <td>1.000749</td>\n",
       "    </tr>\n",
       "    <tr>\n",
       "      <th>3</th>\n",
       "      <td>category_russian</td>\n",
       "      <td>1.003226</td>\n",
       "    </tr>\n",
       "    <tr>\n",
       "      <th>4</th>\n",
       "      <td>category_african</td>\n",
       "      <td>1.003820</td>\n",
       "    </tr>\n",
       "    <tr>\n",
       "      <th>...</th>\n",
       "      <td>...</td>\n",
       "      <td>...</td>\n",
       "    </tr>\n",
       "    <tr>\n",
       "      <th>76</th>\n",
       "      <td>busy_dashers_ratio</td>\n",
       "      <td>6.369592</td>\n",
       "    </tr>\n",
       "    <tr>\n",
       "      <th>77</th>\n",
       "      <td>category_american</td>\n",
       "      <td>7.033601</td>\n",
       "    </tr>\n",
       "    <tr>\n",
       "      <th>78</th>\n",
       "      <td>estimated_store_to_consumer_driving_duration</td>\n",
       "      <td>7.210822</td>\n",
       "    </tr>\n",
       "    <tr>\n",
       "      <th>79</th>\n",
       "      <td>estimated_order_place_duration</td>\n",
       "      <td>13.472126</td>\n",
       "    </tr>\n",
       "    <tr>\n",
       "      <th>80</th>\n",
       "      <td>percent_distinct_item_of_total</td>\n",
       "      <td>30.336767</td>\n",
       "    </tr>\n",
       "  </tbody>\n",
       "</table>\n",
       "<p>81 rows × 2 columns</p>\n",
       "</div>"
      ],
      "text/plain": [
       "                                         feature        VIF\n",
       "0                     category_alcohol-plus-food   1.000371\n",
       "1                             category_chocolate   1.000493\n",
       "2                               category_belgian   1.000749\n",
       "3                               category_russian   1.003226\n",
       "4                               category_african   1.003820\n",
       "..                                           ...        ...\n",
       "76                            busy_dashers_ratio   6.369592\n",
       "77                             category_american   7.033601\n",
       "78  estimated_store_to_consumer_driving_duration   7.210822\n",
       "79                estimated_order_place_duration  13.472126\n",
       "80                percent_distinct_item_of_total  30.336767\n",
       "\n",
       "[81 rows x 2 columns]"
      ]
     },
     "execution_count": 156,
     "metadata": {},
     "output_type": "execute_result"
    }
   ],
   "source": [
    "features = train_df.drop('actual_total_delivery_time', axis=1).columns.tolist()\n",
    "vif_data = compute_vif(features)\n",
    "vif_data"
   ]
  },
  {
   "cell_type": "markdown",
   "id": "7f1cafbe",
   "metadata": {},
   "source": [
    "We will drop features that have high VIF scores > 20"
   ]
  },
  {
   "cell_type": "code",
   "execution_count": 157,
   "id": "e8ec793f",
   "metadata": {},
   "outputs": [
    {
     "name": "stdout",
     "output_type": "stream",
     "text": [
      "Remove percent_distinct_item_of_total\n"
     ]
    },
    {
     "data": {
      "text/html": [
       "<div>\n",
       "<style scoped>\n",
       "    .dataframe tbody tr th:only-of-type {\n",
       "        vertical-align: middle;\n",
       "    }\n",
       "\n",
       "    .dataframe tbody tr th {\n",
       "        vertical-align: top;\n",
       "    }\n",
       "\n",
       "    .dataframe thead th {\n",
       "        text-align: right;\n",
       "    }\n",
       "</style>\n",
       "<table border=\"1\" class=\"dataframe\">\n",
       "  <thead>\n",
       "    <tr style=\"text-align: right;\">\n",
       "      <th></th>\n",
       "      <th>feature</th>\n",
       "      <th>VIF</th>\n",
       "    </tr>\n",
       "  </thead>\n",
       "  <tbody>\n",
       "    <tr>\n",
       "      <th>0</th>\n",
       "      <td>category_alcohol-plus-food</td>\n",
       "      <td>1.000222</td>\n",
       "    </tr>\n",
       "    <tr>\n",
       "      <th>1</th>\n",
       "      <td>category_chocolate</td>\n",
       "      <td>1.000365</td>\n",
       "    </tr>\n",
       "    <tr>\n",
       "      <th>2</th>\n",
       "      <td>category_belgian</td>\n",
       "      <td>1.000451</td>\n",
       "    </tr>\n",
       "    <tr>\n",
       "      <th>3</th>\n",
       "      <td>category_russian</td>\n",
       "      <td>1.002016</td>\n",
       "    </tr>\n",
       "    <tr>\n",
       "      <th>4</th>\n",
       "      <td>category_gluten-free</td>\n",
       "      <td>1.002363</td>\n",
       "    </tr>\n",
       "    <tr>\n",
       "      <th>...</th>\n",
       "      <td>...</td>\n",
       "      <td>...</td>\n",
       "    </tr>\n",
       "    <tr>\n",
       "      <th>75</th>\n",
       "      <td>category_american</td>\n",
       "      <td>4.505927</td>\n",
       "    </tr>\n",
       "    <tr>\n",
       "      <th>76</th>\n",
       "      <td>avg_price_per_item</td>\n",
       "      <td>5.958955</td>\n",
       "    </tr>\n",
       "    <tr>\n",
       "      <th>77</th>\n",
       "      <td>busy_dashers_ratio</td>\n",
       "      <td>6.357884</td>\n",
       "    </tr>\n",
       "    <tr>\n",
       "      <th>78</th>\n",
       "      <td>estimated_store_to_consumer_driving_duration</td>\n",
       "      <td>7.192622</td>\n",
       "    </tr>\n",
       "    <tr>\n",
       "      <th>79</th>\n",
       "      <td>estimated_order_place_duration</td>\n",
       "      <td>13.339228</td>\n",
       "    </tr>\n",
       "  </tbody>\n",
       "</table>\n",
       "<p>80 rows × 2 columns</p>\n",
       "</div>"
      ],
      "text/plain": [
       "                                         feature        VIF\n",
       "0                     category_alcohol-plus-food   1.000222\n",
       "1                             category_chocolate   1.000365\n",
       "2                               category_belgian   1.000451\n",
       "3                               category_russian   1.002016\n",
       "4                           category_gluten-free   1.002363\n",
       "..                                           ...        ...\n",
       "75                             category_american   4.505927\n",
       "76                            avg_price_per_item   5.958955\n",
       "77                            busy_dashers_ratio   6.357884\n",
       "78  estimated_store_to_consumer_driving_duration   7.192622\n",
       "79                estimated_order_place_duration  13.339228\n",
       "\n",
       "[80 rows x 2 columns]"
      ]
     },
     "execution_count": 157,
     "metadata": {},
     "output_type": "execute_result"
    }
   ],
   "source": [
    "multicollinearity = True\n",
    "\n",
    "while multicollinearity:\n",
    "    highest_vif_feature = vif_data['feature'].values.tolist()[-1]\n",
    "    print('Remove', highest_vif_feature)\n",
    "    features.remove(highest_vif_feature)\n",
    "    vif_data = compute_vif(features)\n",
    "    multicollinearity = False if len(vif_data[vif_data['VIF'] > 20])==0 else True\n",
    "\n",
    "selected_features = vif_data['feature'].values.tolist()\n",
    "vif_data"
   ]
  },
  {
   "cell_type": "markdown",
   "id": "b109063d",
   "metadata": {},
   "source": [
    "#### Feature selection using Gini's importance"
   ]
  },
  {
   "cell_type": "code",
   "execution_count": 161,
   "id": "d945d32a",
   "metadata": {},
   "outputs": [],
   "source": [
    "from sklearn.model_selection import train_test_split\n",
    "\n",
    "X = train_df[selected_features]\n",
    "y = train_df['actual_total_delivery_time']\n",
    "X_train, X_test, y_train, y_test = train_test_split(X, y, test_size=0.2, random_state=42)"
   ]
  },
  {
   "cell_type": "code",
   "execution_count": 162,
   "id": "4489a03c",
   "metadata": {},
   "outputs": [
    {
     "data": {
      "image/png": "[encoded data removed]",
      "text/plain": [
       "<Figure size 1500x1200 with 1 Axes>"
      ]
     },
     "metadata": {},
     "output_type": "display_data"
    }
   ],
   "source": [
    "from sklearn.ensemble import RandomForestRegressor\n",
    "\n",
    "feature_names = [f\"feature {i}\" for i in range((X.shape[1]))]\n",
    "forest = RandomForestRegressor(random_state=42)\n",
    "forest.fit(X_train, y_train)\n",
    "feats = {} # a dict to hold feature_name: feature_importance\n",
    "for feature, importance in zip(X.columns, forest.feature_importances_):\n",
    "    feats[feature] = importance #add the name/value pair \n",
    "\n",
    "importances = pd.DataFrame.from_dict(feats, orient='index').rename(columns={0: 'Gini-importance'})\n",
    "importances.sort_values(by='Gini-importance').plot(kind='bar', rot=90, figsize=(15,12))\n",
    "plt.show()"
   ]
  },
  {
   "cell_type": "markdown",
   "id": "2d838737",
   "metadata": {},
   "source": [
    "It looks a little bit complicated, so let’s minimize this graph by 35 of the best."
   ]
  },
  {
   "cell_type": "code",
   "execution_count": 165,
   "id": "6f8d3c7a",
   "metadata": {},
   "outputs": [
    {
     "data": {
      "text/plain": [
       "['category_middle-eastern',\n",
       " 'category_hawaiian',\n",
       " 'category_catering',\n",
       " 'category_smoothie',\n",
       " 'category_sushi',\n",
       " 'category_asian',\n",
       " 'category_barbecue',\n",
       " 'category_alcohol',\n",
       " 'category_greek',\n",
       " 'category_seafood',\n",
       " 'category_cafe',\n",
       " 'category_other',\n",
       " 'category_salad',\n",
       " 'category_vietnamese',\n",
       " 'category_breakfast',\n",
       " 'category_italian',\n",
       " 'category_fast',\n",
       " 'category_sandwich',\n",
       " 'category_chinese',\n",
       " 'category_thai',\n",
       " 'category_mediterranean',\n",
       " 'category_japanese',\n",
       " 'category_dessert',\n",
       " 'category_mexican',\n",
       " 'category_indian',\n",
       " 'category_burger',\n",
       " 'category_american',\n",
       " 'category_pizza',\n",
       " 'estimated_order_place_duration',\n",
       " 'total_items',\n",
       " 'price_range_of_items',\n",
       " 'busy_dashers_ratio',\n",
       " 'total_outstanding_orders',\n",
       " 'avg_price_per_item',\n",
       " 'estimated_store_to_consumer_driving_duration']"
      ]
     },
     "execution_count": 165,
     "metadata": {},
     "output_type": "execute_result"
    }
   ],
   "source": [
    "importances.sort_values(by='Gini-importance')[-35:].index.tolist()"
   ]
  },
  {
   "cell_type": "markdown",
   "id": "bc6edf15",
   "metadata": {},
   "source": [
    "#### Further reducing features using PCA"
   ]
  },
  {
   "cell_type": "code",
   "execution_count": 166,
   "id": "9a5e9cca",
   "metadata": {},
   "outputs": [
    {
     "data": {
      "image/png": "[encoded data removed]",
      "text/plain": [
       "<Figure size 640x480 with 1 Axes>"
      ]
     },
     "metadata": {},
     "output_type": "display_data"
    }
   ],
   "source": [
    "from sklearn.decomposition import PCA\n",
    "from sklearn.preprocessing import StandardScaler\n",
    "\n",
    "X_train2 = X_train.values\n",
    "X_train2 = np.asarray(X_train2)\n",
    "X_std = StandardScaler().fit_transform(X_train2)\n",
    "pca = PCA().fit(X_std)\n",
    "\n",
    "plt.plot(np.cumsum(pca.explained_variance_ratio_))\n",
    "plt.xlabel('n_components')\n",
    "plt.ylabel('cumulative explained variance')\n",
    "plt.show()"
   ]
  },
  {
   "cell_type": "markdown",
   "id": "6b2d924d",
   "metadata": {},
   "source": [
    "We can see that 60 features would explain 80% of our data frame. We already have 80 features, so it is okay."
   ]
  },
  {
   "cell_type": "markdown",
   "id": "f311c8b5",
   "metadata": {},
   "source": [
    "#### Applying scaler"
   ]
  },
  {
   "cell_type": "code",
   "execution_count": 168,
   "id": "0b94ed9a",
   "metadata": {},
   "outputs": [],
   "source": [
    "from sklearn.preprocessing import MinMaxScaler, StandardScaler\n",
    "\n",
    "def scale(scaler, X, y):\n",
    "    X_scaler = scaler\n",
    "    X_scaler.fit(X=X, y=y)\n",
    "    X_scaled = X_scaler.transform(X)\n",
    "    y_scaler = scaler\n",
    "    y_scaler.fit(y.values.reshape(-1, 1))\n",
    "    y_scaled = y_scaler.transform(y.values.reshape(-1, 1))\n",
    "    \n",
    "    return X_scaled, y_scaled, X_scaler, y_scaler"
   ]
  },
  {
   "cell_type": "code",
   "execution_count": 169,
   "id": "ba12f3ff",
   "metadata": {},
   "outputs": [],
   "source": [
    "X_scaled, y_scaled, X_scaler, y_scaler = scale(MinMaxScaler(), X, y)\n",
    "\n",
    "X_train_scaled, X_test_scaled, y_train_scaled, y_test_scaled = train_test_split(X_scaled, y_scaled, test_size=0.2, random_state=42)"
   ]
  },
  {
   "cell_type": "markdown",
   "id": "dc0d773d",
   "metadata": {},
   "source": [
    "#### Inverse transform\n",
    "\n",
    "To make data the same after scaling it"
   ]
  },
  {
   "cell_type": "code",
   "execution_count": 170,
   "id": "90c5a101",
   "metadata": {},
   "outputs": [],
   "source": [
    "from sklearn.metrics import mean_squared_error\n",
    "\n",
    "def rmse_with_inv_transform(scaler, y_test, y_pred_scaled, model_name):\n",
    "    y_predict = scaler.inverse_transform(y_pred_scaled.reshape(-1, 1))\n",
    "    # return RMSE with squared False     \n",
    "    rmse_error = mean_squared_error(y_test, y_predict[:,0], squared=False)\n",
    "    print(\"Error = \"'{}'.format(rmse_error)+\" in \" + model_name)\n",
    "    \n",
    "    return rmse_error, y_predict"
   ]
  },
  {
   "cell_type": "markdown",
   "id": "d7e95b68",
   "metadata": {},
   "source": [
    "## 4. BUILDING MACHINE LEARNING MODELS"
   ]
  },
  {
   "cell_type": "markdown",
   "id": "d76159f2",
   "metadata": {},
   "source": [
    "#### Create a custom function that will fit the models first, then calculate and print the evaluation metrics, train and test error, along with the trained model name with y_predict to then calculate these metrics for all models at once."
   ]
  },
  {
   "cell_type": "code",
   "execution_count": 172,
   "id": "4e879fe7",
   "metadata": {},
   "outputs": [],
   "source": [
    "def make_regression(X_train, y_train, X_test, y_test, model, model_name, verbose=True):\n",
    "    model.fit(X_train, y_train)\n",
    "    y_predict = model.predict(X_train)\n",
    "    train_error = mean_squared_error(y_train, y_predict, squared=False)\n",
    "    y_predict = model.predict(X_test)\n",
    "    test_error = mean_squared_error(y_test, y_predict, squared=False)\n",
    "    if verbose:\n",
    "        print('Train error=', train_error, 'in', model_name)\n",
    "        print('Test error=', test_error, 'in', model_name)\n",
    "    trained_model = model\n",
    "    \n",
    "    return trained_model, y_predict, train_error, test_error"
   ]
  },
  {
   "cell_type": "code",
   "execution_count": 175,
   "id": "37133f80",
   "metadata": {
    "scrolled": true
   },
   "outputs": [],
   "source": [
    "from xgboost import XGBRegressor\n",
    "from lightgbm import LGBMRegressor\n",
    "from sklearn.neural_network import MLPRegressor\n",
    "from sklearn import tree\n",
    "from sklearn import svm\n",
    "from sklearn import neighbors\n",
    "from sklearn import linear_model"
   ]
  },
  {
   "cell_type": "code",
   "execution_count": 187,
   "id": "08315055",
   "metadata": {},
   "outputs": [],
   "source": [
    "pred_dict = {\n",
    "    'regression_model':[],\n",
    "    'feature_set':[],\n",
    "    'scaler_name':[],\n",
    "    'RMSE':[]\n",
    "}"
   ]
  },
  {
   "cell_type": "code",
   "execution_count": 177,
   "id": "0faba8f4",
   "metadata": {},
   "outputs": [],
   "source": [
    "regression_models = {\n",
    "    'Ridge':linear_model.Ridge(),\n",
    "    'DecisionTree':tree.DecisionTreeRegressor(max_depth=6),\n",
    "    'RandomForest':RandomForestRegressor(),\n",
    "    'XGBoost':XGBRegressor(),\n",
    "    'LGBM':LGBMRegressor(),\n",
    "    'MLP':MLPRegressor()\n",
    "}"
   ]
  },
  {
   "cell_type": "code",
   "execution_count": 178,
   "id": "90792db4",
   "metadata": {},
   "outputs": [],
   "source": [
    "feature_sets = {\n",
    "    'full dataset': X.columns.tolist(),\n",
    "    'selected_features_40': importances.sort_values(by='Gini-importance')[-40:].index.tolist(),\n",
    "    'selected_features_20': importances.sort_values(by='Gini-importance')[-20:].index.tolist(),\n",
    "    'selected_features_10': importances.sort_values(by='Gini-importance')[-10:].index.tolist(),\n",
    "}"
   ]
  },
  {
   "cell_type": "code",
   "execution_count": 180,
   "id": "6a41c79d",
   "metadata": {},
   "outputs": [],
   "source": [
    "scalers = {\n",
    "    'Standard scaler':StandardScaler(),\n",
    "    'MinMax scaler':MinMaxScaler(),\n",
    "    'NotScale':None,\n",
    "}"
   ]
  },
  {
   "cell_type": "code",
   "execution_count": 188,
   "id": "32c62468",
   "metadata": {},
   "outputs": [
    {
     "name": "stdout",
     "output_type": "stream",
     "text": [
      "-----scaled with Standard scaler-------- included columns are full dataset\n",
      "\n",
      "Error = 2053.69873046875 in Ridge\n",
      "Error = 2057.2476687088733 in DecisionTree\n",
      "Error = 2049.2481720841347 in RandomForest\n",
      "Error = 2036.2498779296875 in XGBoost\n",
      "Error = 2033.4355809987908 in LGBM\n",
      "Error = 2038.2073974609375 in MLP\n",
      "-----scaled with MinMax scaler-------- included columns are full dataset\n",
      "\n",
      "Error = 2053.962890625 in Ridge\n",
      "Error = 2057.2476685732177 in DecisionTree\n",
      "Error = 2048.3428764304495 in RandomForest\n",
      "Error = 2035.351318359375 in XGBoost\n",
      "Error = 2034.4499976619875 in LGBM\n",
      "Error = 2092.399658203125 in MLP\n",
      "-----scaled with NotScale-------- included columns are full dataset\n",
      "\n"
     ]
    },
    {
     "name": "stderr",
     "output_type": "stream",
     "text": [
      "C:\\Users\\THANG\\anaconda3\\lib\\site-packages\\sklearn\\linear_model\\_ridge.py:216: LinAlgWarning: Ill-conditioned matrix (rcond=4.42534e-11): result may not be accurate.\n",
      "  return linalg.solve(A, Xy, assume_a=\"pos\", overwrite_a=True).T\n"
     ]
    },
    {
     "name": "stdout",
     "output_type": "stream",
     "text": [
      "Train error= 1071.4972 in Ridge\n",
      "Test error= 2053.6926 in Ridge\n",
      "Train error= 1067.7815291116704 in DecisionTree\n",
      "Test error= 2057.2476684096064 in DecisionTree\n",
      "Train error= 399.05456901559273 in RandomForest\n",
      "Test error= 2049.1657898204753 in RandomForest\n",
      "Train error= 968.24713 in XGBoost\n",
      "Test error= 2036.4321 in XGBoost\n",
      "Train error= 1017.5549840201221 in LGBM\n",
      "Test error= 2034.461097275308 in LGBM\n"
     ]
    },
    {
     "name": "stderr",
     "output_type": "stream",
     "text": [
      "C:\\Users\\THANG\\anaconda3\\lib\\site-packages\\sklearn\\neural_network\\_multilayer_perceptron.py:684: ConvergenceWarning: Stochastic Optimizer: Maximum iterations (200) reached and the optimization hasn't converged yet.\n",
      "  warnings.warn(\n"
     ]
    },
    {
     "name": "stdout",
     "output_type": "stream",
     "text": [
      "Train error= 1053.3374 in MLP\n",
      "Test error= 2046.6957 in MLP\n",
      "-----scaled with Standard scaler-------- included columns are selected_features_40\n",
      "\n",
      "Error = 2054.00439453125 in Ridge\n",
      "Error = 2056.5292024696128 in DecisionTree\n",
      "Error = 2048.7361170986096 in RandomForest\n",
      "Error = 2035.453369140625 in XGBoost\n",
      "Error = 2034.6538984910121 in LGBM\n",
      "Error = 2036.0067138671875 in MLP\n",
      "-----scaled with MinMax scaler-------- included columns are selected_features_40\n",
      "\n",
      "Error = 2054.27734375 in Ridge\n",
      "Error = 2056.5292023632996 in DecisionTree\n",
      "Error = 2049.538741520047 in RandomForest\n",
      "Error = 2034.2847900390625 in XGBoost\n",
      "Error = 2035.196536738781 in LGBM\n",
      "Error = 2169.201416015625 in MLP\n",
      "-----scaled with NotScale-------- included columns are selected_features_40\n",
      "\n",
      "Train error= 1072.355 in Ridge\n",
      "Test error= 2054.0044 in Ridge\n"
     ]
    },
    {
     "name": "stderr",
     "output_type": "stream",
     "text": [
      "C:\\Users\\THANG\\anaconda3\\lib\\site-packages\\sklearn\\linear_model\\_ridge.py:216: LinAlgWarning: Ill-conditioned matrix (rcond=2.55924e-09): result may not be accurate.\n",
      "  return linalg.solve(A, Xy, assume_a=\"pos\", overwrite_a=True).T\n"
     ]
    },
    {
     "name": "stdout",
     "output_type": "stream",
     "text": [
      "Train error= 1067.785563647774 in DecisionTree\n",
      "Test error= 2056.529202224364 in DecisionTree\n",
      "Train error= 397.99583090625276 in RandomForest\n",
      "Test error= 2046.7680623996946 in RandomForest\n",
      "Train error= 965.68585 in XGBoost\n",
      "Test error= 2035.7643 in XGBoost\n",
      "Train error= 1017.1430421117441 in LGBM\n",
      "Test error= 2034.8058530174258 in LGBM\n"
     ]
    },
    {
     "name": "stderr",
     "output_type": "stream",
     "text": [
      "C:\\Users\\THANG\\anaconda3\\lib\\site-packages\\sklearn\\neural_network\\_multilayer_perceptron.py:684: ConvergenceWarning: Stochastic Optimizer: Maximum iterations (200) reached and the optimization hasn't converged yet.\n",
      "  warnings.warn(\n"
     ]
    },
    {
     "name": "stdout",
     "output_type": "stream",
     "text": [
      "Train error= 1054.0261 in MLP\n",
      "Test error= 2046.5547 in MLP\n",
      "-----scaled with Standard scaler-------- included columns are selected_features_20\n",
      "\n",
      "Error = 2055.36572265625 in Ridge\n",
      "Error = 2054.610311207463 in DecisionTree\n",
      "Error = 2048.7892989151756 in RandomForest\n",
      "Error = 2037.6336669921875 in XGBoost\n",
      "Error = 2036.0233846729805 in LGBM\n",
      "Error = 2036.373046875 in MLP\n",
      "-----scaled with MinMax scaler-------- included columns are selected_features_20\n",
      "\n",
      "Error = 2055.653076171875 in Ridge\n",
      "Error = 2054.6103112689557 in DecisionTree\n",
      "Error = 2048.728120677641 in RandomForest\n",
      "Error = 2036.5164794921875 in XGBoost\n",
      "Error = 2035.581516471472 in LGBM\n",
      "Error = 2096.03369140625 in MLP\n",
      "-----scaled with NotScale-------- included columns are selected_features_20\n",
      "\n",
      "Train error= 1074.5066 in Ridge\n",
      "Test error= 2055.3657 in Ridge\n"
     ]
    },
    {
     "name": "stderr",
     "output_type": "stream",
     "text": [
      "C:\\Users\\THANG\\anaconda3\\lib\\site-packages\\sklearn\\linear_model\\_ridge.py:216: LinAlgWarning: Ill-conditioned matrix (rcond=4.43858e-08): result may not be accurate.\n",
      "  return linalg.solve(A, Xy, assume_a=\"pos\", overwrite_a=True).T\n"
     ]
    },
    {
     "name": "stdout",
     "output_type": "stream",
     "text": [
      "Train error= 1069.1350906055598 in DecisionTree\n",
      "Test error= 2054.610311170708 in DecisionTree\n",
      "Train error= 399.10601275425836 in RandomForest\n",
      "Test error= 2048.3010937085405 in RandomForest\n",
      "Train error= 966.1651 in XGBoost\n",
      "Test error= 2036.2493 in XGBoost\n",
      "Train error= 1018.9600610110249 in LGBM\n",
      "Test error= 2035.9494403356318 in LGBM\n"
     ]
    },
    {
     "name": "stderr",
     "output_type": "stream",
     "text": [
      "C:\\Users\\THANG\\anaconda3\\lib\\site-packages\\sklearn\\neural_network\\_multilayer_perceptron.py:684: ConvergenceWarning: Stochastic Optimizer: Maximum iterations (200) reached and the optimization hasn't converged yet.\n",
      "  warnings.warn(\n"
     ]
    },
    {
     "name": "stdout",
     "output_type": "stream",
     "text": [
      "Train error= 1059.0293 in MLP\n",
      "Test error= 2049.309 in MLP\n",
      "-----scaled with Standard scaler-------- included columns are selected_features_10\n",
      "\n",
      "Error = 2056.568359375 in Ridge\n",
      "Error = 2054.5971761770547 in DecisionTree\n",
      "Error = 2053.3801460885657 in RandomForest\n",
      "Error = 2040.27001953125 in XGBoost\n",
      "Error = 2038.1313604554389 in LGBM\n",
      "Error = 2039.1851806640625 in MLP\n",
      "-----scaled with MinMax scaler-------- included columns are selected_features_10\n",
      "\n",
      "Error = 2056.882080078125 in Ridge\n",
      "Error = 2054.5971762373274 in DecisionTree\n",
      "Error = 2052.7108907185316 in RandomForest\n",
      "Error = 2039.515625 in XGBoost\n",
      "Error = 2037.6564489201091 in LGBM\n",
      "Error = 2077.33642578125 in MLP\n",
      "-----scaled with NotScale-------- included columns are selected_features_10\n",
      "\n",
      "Train error= 1076.7279 in Ridge\n",
      "Test error= 2056.5684 in Ridge\n",
      "Train error= 1069.2324011708552 in DecisionTree\n",
      "Test error= 2054.597176140608 in DecisionTree\n",
      "Train error= 399.9561785486091 in RandomForest\n",
      "Test error= 2052.3625838402068 in RandomForest\n",
      "Train error= 976.438 in XGBoost\n",
      "Test error= 2039.2135 in XGBoost\n",
      "Train error= 1022.939378192528 in LGBM\n",
      "Test error= 2038.4873761329577 in LGBM\n",
      "Train error= 1060.4469 in MLP\n",
      "Test error= 2050.644 in MLP\n"
     ]
    }
   ],
   "source": [
    "for feature_set_name in feature_sets.keys():\n",
    "    feature_set = feature_sets[feature_set_name]\n",
    "    for scaler_name in scalers.keys():\n",
    "        print(f\"-----scaled with {scaler_name}-------- included columns are {feature_set_name}\")\n",
    "        print(\"\")\n",
    "        for model_name in regression_models.keys():   \n",
    "            if scaler_name == \"NotScale\":\n",
    "                X = train_df[feature_set]\n",
    "                y = train_df[\"actual_total_delivery_time\"]\n",
    "                X_train, X_test, y_train, y_test = train_test_split(X, y, test_size=0.2, random_state=42)\n",
    "                make_regression(X_train, y_train, X_test, y_test, regression_models[model_name], model_name, verbose=True)\n",
    "            \n",
    "            else:\n",
    "                \n",
    "                X_scaled, y_scaled, X_scaler, y_scaler = scale(scalers[scaler_name], train_df[feature_set], y)\n",
    "                X_train_scaled, X_test_scaled, y_train_scaled, y_test_scaled = train_test_split(\n",
    "                    X_scaled, y_scaled, test_size=0.2, random_state=42)\n",
    "                _, y_predict_scaled, _, _ = make_regression(X_train_scaled, y_train_scaled[:,0], X_test_scaled, y_test_scaled[:,0], regression_models[model_name], model_name, verbose=False)\n",
    "                rmse_error, y_predict = rmse_with_inv_transform(y_scaler, y_test, y_predict_scaled, model_name)\n",
    "\n",
    "            pred_dict[\"regression_model\"].append(model_name)\n",
    "            pred_dict[\"feature_set\"].append(feature_set_name)\n",
    "            pred_dict[\"scaler_name\"].append(scaler_name)\n",
    "            pred_dict[\"RMSE\"].append(rmse_error)"
   ]
  },
  {
   "cell_type": "code",
   "execution_count": 190,
   "id": "fb83ad53",
   "metadata": {},
   "outputs": [
    {
     "data": {
      "text/html": [
       "<div>\n",
       "<style scoped>\n",
       "    .dataframe tbody tr th:only-of-type {\n",
       "        vertical-align: middle;\n",
       "    }\n",
       "\n",
       "    .dataframe tbody tr th {\n",
       "        vertical-align: top;\n",
       "    }\n",
       "\n",
       "    .dataframe thead th {\n",
       "        text-align: right;\n",
       "    }\n",
       "</style>\n",
       "<table border=\"1\" class=\"dataframe\">\n",
       "  <thead>\n",
       "    <tr style=\"text-align: right;\">\n",
       "      <th></th>\n",
       "      <th>regression_model</th>\n",
       "      <th>feature_set</th>\n",
       "      <th>scaler_name</th>\n",
       "      <th>RMSE</th>\n",
       "    </tr>\n",
       "  </thead>\n",
       "  <tbody>\n",
       "    <tr>\n",
       "      <th>0</th>\n",
       "      <td>Ridge</td>\n",
       "      <td>full dataset</td>\n",
       "      <td>Standard scaler</td>\n",
       "      <td>2053.698730</td>\n",
       "    </tr>\n",
       "    <tr>\n",
       "      <th>1</th>\n",
       "      <td>DecisionTree</td>\n",
       "      <td>full dataset</td>\n",
       "      <td>Standard scaler</td>\n",
       "      <td>2057.247669</td>\n",
       "    </tr>\n",
       "    <tr>\n",
       "      <th>2</th>\n",
       "      <td>RandomForest</td>\n",
       "      <td>full dataset</td>\n",
       "      <td>Standard scaler</td>\n",
       "      <td>2049.248172</td>\n",
       "    </tr>\n",
       "    <tr>\n",
       "      <th>3</th>\n",
       "      <td>XGBoost</td>\n",
       "      <td>full dataset</td>\n",
       "      <td>Standard scaler</td>\n",
       "      <td>2036.249878</td>\n",
       "    </tr>\n",
       "    <tr>\n",
       "      <th>4</th>\n",
       "      <td>LGBM</td>\n",
       "      <td>full dataset</td>\n",
       "      <td>Standard scaler</td>\n",
       "      <td>2033.435581</td>\n",
       "    </tr>\n",
       "    <tr>\n",
       "      <th>...</th>\n",
       "      <td>...</td>\n",
       "      <td>...</td>\n",
       "      <td>...</td>\n",
       "      <td>...</td>\n",
       "    </tr>\n",
       "    <tr>\n",
       "      <th>67</th>\n",
       "      <td>DecisionTree</td>\n",
       "      <td>selected_features_10</td>\n",
       "      <td>NotScale</td>\n",
       "      <td>2077.336426</td>\n",
       "    </tr>\n",
       "    <tr>\n",
       "      <th>68</th>\n",
       "      <td>RandomForest</td>\n",
       "      <td>selected_features_10</td>\n",
       "      <td>NotScale</td>\n",
       "      <td>2077.336426</td>\n",
       "    </tr>\n",
       "    <tr>\n",
       "      <th>69</th>\n",
       "      <td>XGBoost</td>\n",
       "      <td>selected_features_10</td>\n",
       "      <td>NotScale</td>\n",
       "      <td>2077.336426</td>\n",
       "    </tr>\n",
       "    <tr>\n",
       "      <th>70</th>\n",
       "      <td>LGBM</td>\n",
       "      <td>selected_features_10</td>\n",
       "      <td>NotScale</td>\n",
       "      <td>2077.336426</td>\n",
       "    </tr>\n",
       "    <tr>\n",
       "      <th>71</th>\n",
       "      <td>MLP</td>\n",
       "      <td>selected_features_10</td>\n",
       "      <td>NotScale</td>\n",
       "      <td>2077.336426</td>\n",
       "    </tr>\n",
       "  </tbody>\n",
       "</table>\n",
       "<p>72 rows × 4 columns</p>\n",
       "</div>"
      ],
      "text/plain": [
       "   regression_model           feature_set      scaler_name         RMSE\n",
       "0             Ridge          full dataset  Standard scaler  2053.698730\n",
       "1      DecisionTree          full dataset  Standard scaler  2057.247669\n",
       "2      RandomForest          full dataset  Standard scaler  2049.248172\n",
       "3           XGBoost          full dataset  Standard scaler  2036.249878\n",
       "4              LGBM          full dataset  Standard scaler  2033.435581\n",
       "..              ...                   ...              ...          ...\n",
       "67     DecisionTree  selected_features_10         NotScale  2077.336426\n",
       "68     RandomForest  selected_features_10         NotScale  2077.336426\n",
       "69          XGBoost  selected_features_10         NotScale  2077.336426\n",
       "70             LGBM  selected_features_10         NotScale  2077.336426\n",
       "71              MLP  selected_features_10         NotScale  2077.336426\n",
       "\n",
       "[72 rows x 4 columns]"
      ]
     },
     "execution_count": 190,
     "metadata": {},
     "output_type": "execute_result"
    }
   ],
   "source": [
    "pred_df = pd.DataFrame(pred_dict)\n",
    "pred_df"
   ]
  },
  {
   "cell_type": "code",
   "execution_count": 192,
   "id": "ec60d4e7",
   "metadata": {},
   "outputs": [
    {
     "data": {
      "text/plain": [
       "<Axes: >"
      ]
     },
     "execution_count": 192,
     "metadata": {},
     "output_type": "execute_result"
    },
    {
     "data": {
      "image/png": "[encoded data removed]",
      "text/plain": [
       "<Figure size 1200x800 with 1 Axes>"
      ]
     },
     "metadata": {},
     "output_type": "display_data"
    }
   ],
   "source": [
    "pred_df.plot(kind='bar', figsize=(12,8))"
   ]
  },
  {
   "cell_type": "markdown",
   "id": "67d21249",
   "metadata": {},
   "source": [
    "It looks like we have high errors in all our models. Also, the models tell us that not scaling made our model worse, so we will select one of our scalers. When we decrease the feature size, the model performance increases, but after 40, it continues decreasing, so we will select 40 features for our model."
   ]
  },
  {
   "cell_type": "markdown",
   "id": "f9314d99",
   "metadata": {},
   "source": [
    "#### Optimize the model\n",
    "\n",
    "Let's predict the prep duration first and then calculate 'actual_total_delivery_time' after the prediction"
   ]
  },
  {
   "cell_type": "code",
   "execution_count": 196,
   "id": "5bf56c42",
   "metadata": {},
   "outputs": [],
   "source": [
    "train_df['prep_time'] = train_df['actual_total_delivery_time'] - train_df[\"estimated_store_to_consumer_driving_duration\"] - train_df[\"estimated_order_place_duration\"]"
   ]
  },
  {
   "cell_type": "code",
   "execution_count": 197,
   "id": "29ee0e87",
   "metadata": {},
   "outputs": [
    {
     "name": "stdout",
     "output_type": "stream",
     "text": [
      "-----scaled with Standard scaler-------- included columns are selected_features_40\n",
      "\n",
      "Error = 2055.40771484375 in Ridge\n",
      "Error = 2063.3402827182467 in DecisionTree\n",
      "Error = 2040.7500250957783 in RandomForest\n",
      "Error = 2037.8203125 in XGBoost\n",
      "Error = 2035.7236370573405 in LGBM\n",
      "Error = 2039.4483642578125 in MLP\n"
     ]
    }
   ],
   "source": [
    "scalers = {\n",
    "    \"Standard scaler\": StandardScaler(),\n",
    "}\n",
    "\n",
    "feature_sets = {\n",
    "    \"selected_features_40\": importances.sort_values(by='Gini-importance')[-40:].index.tolist(),\n",
    "}\n",
    "\n",
    "for feature_set_name in feature_sets.keys():\n",
    "    feature_set = feature_sets[feature_set_name]\n",
    "    for scaler_name in scalers.keys():\n",
    "        print(f\"-----scaled with {scaler_name}-------- included columns are {feature_set_name}\")\n",
    "        print(\"\")\n",
    "        for model_name in regression_models.keys():  \n",
    "            X = train_df[feature_set].drop(columns=[\"estimated_store_to_consumer_driving_duration\", \n",
    "                                           \"estimated_order_place_duration\"])\n",
    "            y = train_df[\"prep_time\"]\n",
    "       \n",
    "            X_train, X_test, y_train, y_test = train_test_split(X, y, test_size=0.2, random_state=42)\n",
    "            train_indices = X_train.index\n",
    "            test_indices  = X_test.index\n",
    "            \n",
    "            \n",
    "            X_scaled, y_scaled, X_scaler, y_scaler = scale(scalers[scaler_name], X, y)\n",
    "            \n",
    "            \n",
    "            X_train_scaled, X_test_scaled, y_train_scaled, y_test_scaled = train_test_split(X_scaled, y_scaled, test_size=0.2, random_state=42)\n",
    "            _, y_predict_scaled, _, _ = make_regression(X_train_scaled, y_train_scaled[:,0], X_test_scaled, y_test_scaled[:,0], regression_models[model_name], model_name, verbose=False)\n",
    "            rmse_error, y_predict = rmse_with_inv_transform(y_scaler, y_test, y_predict_scaled, model_name)\n",
    "            pred_dict[\"regression_model\"].append(model_name)\n",
    "            pred_dict[\"feature_set\"].append(feature_set_name)\n",
    "            pred_dict[\"scaler_name\"].append(scaler_name)\n",
    "            pred_dict[\"RMSE\"].append(rmse_error)"
   ]
  },
  {
   "cell_type": "markdown",
   "id": "03644176",
   "metadata": {},
   "source": [
    "It looks like LGBM outperforms our remaining models every time so we will continue with that."
   ]
  },
  {
   "cell_type": "code",
   "execution_count": 198,
   "id": "ee63cebf",
   "metadata": {},
   "outputs": [
    {
     "name": "stdout",
     "output_type": "stream",
     "text": [
      "-----scaled with Standard scaler-------- included columns are selected_features_40\n",
      "\n",
      "Error = 2035.7236370573405 in LGBM\n"
     ]
    }
   ],
   "source": [
    "scalers = {\n",
    "    \"Standard scaler\": StandardScaler(),\n",
    "}\n",
    "\n",
    "feature_sets = {\n",
    "    \"selected_features_40\": importances.sort_values(by='Gini-importance')[-40:].index.tolist(),\n",
    "}\n",
    "\n",
    "regression_models = {\n",
    "    \"LGBM\": LGBMRegressor(),\n",
    "}\n",
    "\n",
    "for feature_set_name in feature_sets.keys():\n",
    "    feature_set = feature_sets[feature_set_name]\n",
    "    for scaler_name in scalers.keys():\n",
    "        print(f\"-----scaled with {scaler_name}-------- included columns are {feature_set_name}\")\n",
    "        print(\"\")\n",
    "        for model_name in regression_models.keys():  \n",
    "            #drop estimated_store_to_consumer_driving_duration and estimated_order_place_duration\n",
    "            X = train_df[feature_set].drop(columns=[\"estimated_store_to_consumer_driving_duration\", \n",
    "                                           \"estimated_order_place_duration\"])\n",
    "            y = train_df[\"prep_time\"]\n",
    "            \n",
    "            \n",
    "            X_train, X_test, y_train, y_test = train_test_split(X, y, test_size=0.2, random_state=42)\n",
    "            train_indices = X_train.index\n",
    "            test_indices  = X_test.index\n",
    "            \n",
    "            \n",
    "            X_scaled, y_scaled, X_scaler, y_scaler = scale(scalers[scaler_name], X, y)\n",
    "            \n",
    "            \n",
    "            X_train_scaled, X_test_scaled, y_train_scaled, y_test_scaled = train_test_split(X_scaled, y_scaled, test_size=0.2, random_state=42)\n",
    "            _, y_predict_scaled, _, _ = make_regression(X_train_scaled, y_train_scaled[:,0], X_test_scaled, y_test_scaled[:,0], regression_models[model_name], model_name, verbose=False)\n",
    "            rmse_error, y_predict = rmse_with_inv_transform(y_scaler, y_test, y_predict_scaled, model_name)\n",
    "            pred_dict[\"regression_model\"].append(model_name)\n",
    "            pred_dict[\"feature_set\"].append(feature_set_name)\n",
    "            pred_dict[\"scaler_name\"].append(scaler_name)\n",
    "            pred_dict[\"RMSE\"].append(rmse_error)"
   ]
  },
  {
   "cell_type": "code",
   "execution_count": 200,
   "id": "9e5224f0",
   "metadata": {},
   "outputs": [],
   "source": [
    "pred_values_dict = {\n",
    "    \"actual_total_delivery_time\": train_df[\"actual_total_delivery_time\"][test_indices].values.tolist(), \n",
    "    \"prep_duration_prediction\":y_predict[:,0].tolist(),\n",
    "    \"estimated_store_to_consumer_driving_duration\": train_df[\"estimated_store_to_consumer_driving_duration\"][test_indices].values.tolist(),\n",
    "    \"estimated_order_place_duration\": train_df[\"estimated_order_place_duration\"][test_indices].values.tolist(),             \n",
    "}"
   ]
  },
  {
   "cell_type": "code",
   "execution_count": 201,
   "id": "a55e11d8",
   "metadata": {},
   "outputs": [
    {
     "data": {
      "text/html": [
       "<div>\n",
       "<style scoped>\n",
       "    .dataframe tbody tr th:only-of-type {\n",
       "        vertical-align: middle;\n",
       "    }\n",
       "\n",
       "    .dataframe tbody tr th {\n",
       "        vertical-align: top;\n",
       "    }\n",
       "\n",
       "    .dataframe thead th {\n",
       "        text-align: right;\n",
       "    }\n",
       "</style>\n",
       "<table border=\"1\" class=\"dataframe\">\n",
       "  <thead>\n",
       "    <tr style=\"text-align: right;\">\n",
       "      <th></th>\n",
       "      <th>actual_total_delivery_time</th>\n",
       "      <th>prep_duration_prediction</th>\n",
       "      <th>estimated_store_to_consumer_driving_duration</th>\n",
       "      <th>estimated_order_place_duration</th>\n",
       "    </tr>\n",
       "  </thead>\n",
       "  <tbody>\n",
       "    <tr>\n",
       "      <th>0</th>\n",
       "      <td>2448.0</td>\n",
       "      <td>1734.115287</td>\n",
       "      <td>380.0</td>\n",
       "      <td>251.0</td>\n",
       "    </tr>\n",
       "    <tr>\n",
       "      <th>1</th>\n",
       "      <td>1839.0</td>\n",
       "      <td>1508.588146</td>\n",
       "      <td>747.0</td>\n",
       "      <td>446.0</td>\n",
       "    </tr>\n",
       "    <tr>\n",
       "      <th>2</th>\n",
       "      <td>1927.0</td>\n",
       "      <td>2141.085685</td>\n",
       "      <td>543.0</td>\n",
       "      <td>251.0</td>\n",
       "    </tr>\n",
       "    <tr>\n",
       "      <th>3</th>\n",
       "      <td>2657.0</td>\n",
       "      <td>1312.559865</td>\n",
       "      <td>445.0</td>\n",
       "      <td>251.0</td>\n",
       "    </tr>\n",
       "    <tr>\n",
       "      <th>4</th>\n",
       "      <td>3596.0</td>\n",
       "      <td>1945.871826</td>\n",
       "      <td>691.0</td>\n",
       "      <td>446.0</td>\n",
       "    </tr>\n",
       "    <tr>\n",
       "      <th>...</th>\n",
       "      <td>...</td>\n",
       "      <td>...</td>\n",
       "      <td>...</td>\n",
       "      <td>...</td>\n",
       "    </tr>\n",
       "    <tr>\n",
       "      <th>35409</th>\n",
       "      <td>9557.0</td>\n",
       "      <td>2623.132706</td>\n",
       "      <td>768.0</td>\n",
       "      <td>446.0</td>\n",
       "    </tr>\n",
       "    <tr>\n",
       "      <th>35410</th>\n",
       "      <td>1864.0</td>\n",
       "      <td>2148.159250</td>\n",
       "      <td>324.0</td>\n",
       "      <td>446.0</td>\n",
       "    </tr>\n",
       "    <tr>\n",
       "      <th>35411</th>\n",
       "      <td>2674.0</td>\n",
       "      <td>1939.286320</td>\n",
       "      <td>791.0</td>\n",
       "      <td>251.0</td>\n",
       "    </tr>\n",
       "    <tr>\n",
       "      <th>35412</th>\n",
       "      <td>2234.0</td>\n",
       "      <td>1930.656157</td>\n",
       "      <td>687.0</td>\n",
       "      <td>251.0</td>\n",
       "    </tr>\n",
       "    <tr>\n",
       "      <th>35413</th>\n",
       "      <td>1441.0</td>\n",
       "      <td>1623.885083</td>\n",
       "      <td>452.0</td>\n",
       "      <td>446.0</td>\n",
       "    </tr>\n",
       "  </tbody>\n",
       "</table>\n",
       "<p>35414 rows × 4 columns</p>\n",
       "</div>"
      ],
      "text/plain": [
       "       actual_total_delivery_time  prep_duration_prediction  \\\n",
       "0                          2448.0               1734.115287   \n",
       "1                          1839.0               1508.588146   \n",
       "2                          1927.0               2141.085685   \n",
       "3                          2657.0               1312.559865   \n",
       "4                          3596.0               1945.871826   \n",
       "...                           ...                       ...   \n",
       "35409                      9557.0               2623.132706   \n",
       "35410                      1864.0               2148.159250   \n",
       "35411                      2674.0               1939.286320   \n",
       "35412                      2234.0               1930.656157   \n",
       "35413                      1441.0               1623.885083   \n",
       "\n",
       "       estimated_store_to_consumer_driving_duration  \\\n",
       "0                                             380.0   \n",
       "1                                             747.0   \n",
       "2                                             543.0   \n",
       "3                                             445.0   \n",
       "4                                             691.0   \n",
       "...                                             ...   \n",
       "35409                                         768.0   \n",
       "35410                                         324.0   \n",
       "35411                                         791.0   \n",
       "35412                                         687.0   \n",
       "35413                                         452.0   \n",
       "\n",
       "       estimated_order_place_duration  \n",
       "0                               251.0  \n",
       "1                               446.0  \n",
       "2                               251.0  \n",
       "3                               251.0  \n",
       "4                               446.0  \n",
       "...                               ...  \n",
       "35409                           446.0  \n",
       "35410                           446.0  \n",
       "35411                           251.0  \n",
       "35412                           251.0  \n",
       "35413                           446.0  \n",
       "\n",
       "[35414 rows x 4 columns]"
      ]
     },
     "execution_count": 201,
     "metadata": {},
     "output_type": "execute_result"
    }
   ],
   "source": [
    "values_df = pd.DataFrame.from_dict(pred_values_dict)\n",
    "values_df"
   ]
  },
  {
   "cell_type": "markdown",
   "id": "d6153f1b",
   "metadata": {},
   "source": [
    "Since we already made this calculation earlier, we should turn this back by adding estimated_store_to_consumer_driving_duration and estimated_order_place_duration to prep_duration_prediction to find sum_total_delivery_duration. "
   ]
  },
  {
   "cell_type": "code",
   "execution_count": 202,
   "id": "9ffe499d",
   "metadata": {},
   "outputs": [
    {
     "data": {
      "text/html": [
       "<div>\n",
       "<style scoped>\n",
       "    .dataframe tbody tr th:only-of-type {\n",
       "        vertical-align: middle;\n",
       "    }\n",
       "\n",
       "    .dataframe tbody tr th {\n",
       "        vertical-align: top;\n",
       "    }\n",
       "\n",
       "    .dataframe thead th {\n",
       "        text-align: right;\n",
       "    }\n",
       "</style>\n",
       "<table border=\"1\" class=\"dataframe\">\n",
       "  <thead>\n",
       "    <tr style=\"text-align: right;\">\n",
       "      <th></th>\n",
       "      <th>actual_total_delivery_time</th>\n",
       "      <th>prep_duration_prediction</th>\n",
       "      <th>estimated_store_to_consumer_driving_duration</th>\n",
       "      <th>estimated_order_place_duration</th>\n",
       "      <th>sum_total_delivery_duration</th>\n",
       "    </tr>\n",
       "  </thead>\n",
       "  <tbody>\n",
       "    <tr>\n",
       "      <th>0</th>\n",
       "      <td>2448.0</td>\n",
       "      <td>1734.115287</td>\n",
       "      <td>380.0</td>\n",
       "      <td>251.0</td>\n",
       "      <td>2365.115287</td>\n",
       "    </tr>\n",
       "    <tr>\n",
       "      <th>1</th>\n",
       "      <td>1839.0</td>\n",
       "      <td>1508.588146</td>\n",
       "      <td>747.0</td>\n",
       "      <td>446.0</td>\n",
       "      <td>2701.588146</td>\n",
       "    </tr>\n",
       "    <tr>\n",
       "      <th>2</th>\n",
       "      <td>1927.0</td>\n",
       "      <td>2141.085685</td>\n",
       "      <td>543.0</td>\n",
       "      <td>251.0</td>\n",
       "      <td>2935.085685</td>\n",
       "    </tr>\n",
       "    <tr>\n",
       "      <th>3</th>\n",
       "      <td>2657.0</td>\n",
       "      <td>1312.559865</td>\n",
       "      <td>445.0</td>\n",
       "      <td>251.0</td>\n",
       "      <td>2008.559865</td>\n",
       "    </tr>\n",
       "    <tr>\n",
       "      <th>4</th>\n",
       "      <td>3596.0</td>\n",
       "      <td>1945.871826</td>\n",
       "      <td>691.0</td>\n",
       "      <td>446.0</td>\n",
       "      <td>3082.871826</td>\n",
       "    </tr>\n",
       "    <tr>\n",
       "      <th>...</th>\n",
       "      <td>...</td>\n",
       "      <td>...</td>\n",
       "      <td>...</td>\n",
       "      <td>...</td>\n",
       "      <td>...</td>\n",
       "    </tr>\n",
       "    <tr>\n",
       "      <th>35409</th>\n",
       "      <td>9557.0</td>\n",
       "      <td>2623.132706</td>\n",
       "      <td>768.0</td>\n",
       "      <td>446.0</td>\n",
       "      <td>3837.132706</td>\n",
       "    </tr>\n",
       "    <tr>\n",
       "      <th>35410</th>\n",
       "      <td>1864.0</td>\n",
       "      <td>2148.159250</td>\n",
       "      <td>324.0</td>\n",
       "      <td>446.0</td>\n",
       "      <td>2918.159250</td>\n",
       "    </tr>\n",
       "    <tr>\n",
       "      <th>35411</th>\n",
       "      <td>2674.0</td>\n",
       "      <td>1939.286320</td>\n",
       "      <td>791.0</td>\n",
       "      <td>251.0</td>\n",
       "      <td>2981.286320</td>\n",
       "    </tr>\n",
       "    <tr>\n",
       "      <th>35412</th>\n",
       "      <td>2234.0</td>\n",
       "      <td>1930.656157</td>\n",
       "      <td>687.0</td>\n",
       "      <td>251.0</td>\n",
       "      <td>2868.656157</td>\n",
       "    </tr>\n",
       "    <tr>\n",
       "      <th>35413</th>\n",
       "      <td>1441.0</td>\n",
       "      <td>1623.885083</td>\n",
       "      <td>452.0</td>\n",
       "      <td>446.0</td>\n",
       "      <td>2521.885083</td>\n",
       "    </tr>\n",
       "  </tbody>\n",
       "</table>\n",
       "<p>35414 rows × 5 columns</p>\n",
       "</div>"
      ],
      "text/plain": [
       "       actual_total_delivery_time  prep_duration_prediction  \\\n",
       "0                          2448.0               1734.115287   \n",
       "1                          1839.0               1508.588146   \n",
       "2                          1927.0               2141.085685   \n",
       "3                          2657.0               1312.559865   \n",
       "4                          3596.0               1945.871826   \n",
       "...                           ...                       ...   \n",
       "35409                      9557.0               2623.132706   \n",
       "35410                      1864.0               2148.159250   \n",
       "35411                      2674.0               1939.286320   \n",
       "35412                      2234.0               1930.656157   \n",
       "35413                      1441.0               1623.885083   \n",
       "\n",
       "       estimated_store_to_consumer_driving_duration  \\\n",
       "0                                             380.0   \n",
       "1                                             747.0   \n",
       "2                                             543.0   \n",
       "3                                             445.0   \n",
       "4                                             691.0   \n",
       "...                                             ...   \n",
       "35409                                         768.0   \n",
       "35410                                         324.0   \n",
       "35411                                         791.0   \n",
       "35412                                         687.0   \n",
       "35413                                         452.0   \n",
       "\n",
       "       estimated_order_place_duration  sum_total_delivery_duration  \n",
       "0                               251.0                  2365.115287  \n",
       "1                               446.0                  2701.588146  \n",
       "2                               251.0                  2935.085685  \n",
       "3                               251.0                  2008.559865  \n",
       "4                               446.0                  3082.871826  \n",
       "...                               ...                          ...  \n",
       "35409                           446.0                  3837.132706  \n",
       "35410                           446.0                  2918.159250  \n",
       "35411                           251.0                  2981.286320  \n",
       "35412                           251.0                  2868.656157  \n",
       "35413                           446.0                  2521.885083  \n",
       "\n",
       "[35414 rows x 5 columns]"
      ]
     },
     "execution_count": 202,
     "metadata": {},
     "output_type": "execute_result"
    }
   ],
   "source": [
    "values_df[\"sum_total_delivery_duration\"] = values_df[\"prep_duration_prediction\"] + values_df[\"estimated_store_to_consumer_driving_duration\"] + values_df[\"estimated_order_place_duration\"]\n",
    "values_df"
   ]
  },
  {
   "cell_type": "code",
   "execution_count": 204,
   "id": "37a480a2",
   "metadata": {},
   "outputs": [
    {
     "data": {
      "text/plain": [
       "2035.7236370573405"
      ]
     },
     "execution_count": 204,
     "metadata": {},
     "output_type": "execute_result"
    }
   ],
   "source": [
    "mean_squared_error(values_df[\"actual_total_delivery_time\"], values_df[\"sum_total_delivery_duration\"], squared=False)"
   ]
  },
  {
   "cell_type": "markdown",
   "id": "242c9c0e",
   "metadata": {},
   "source": [
    "We still have a high level of errors. Let’s change the frame one last time. Here we will use prep_duration_prediction, estimated_store_to_consumer_driving_duration, and estimated_order_place_duration to predict actual_total delivery_duration. "
   ]
  },
  {
   "cell_type": "code",
   "execution_count": 206,
   "id": "127ffd17",
   "metadata": {},
   "outputs": [],
   "source": [
    "X = values_df[[\"prep_duration_prediction\", \"estimated_store_to_consumer_driving_duration\", \"estimated_order_place_duration\"]]\n",
    "y = values_df[\"actual_total_delivery_time\"]\n",
    "X_train, X_test, y_train, y_test = train_test_split(X, y, test_size=0.2, random_state=42)"
   ]
  },
  {
   "cell_type": "code",
   "execution_count": 207,
   "id": "4cd988d1",
   "metadata": {},
   "outputs": [
    {
     "name": "stdout",
     "output_type": "stream",
     "text": [
      "RMSE of: LinearReg 986.6912510303845\n",
      "RMSE of: Ridge 986.6912510344928\n",
      "RMSE of: DecisionTree 1235.578088153976\n",
      "RMSE of: RandomForest 1271.8196417915926\n",
      "RMSE of: XGBoost 1370.412425918564\n",
      "RMSE of: LGBM 1079.2949179771774\n",
      "RMSE of: MLP 994.1336901372637\n"
     ]
    }
   ],
   "source": [
    "regression_models = {\n",
    "    \"LinearReg\" : linear_model.LinearRegression(),\n",
    "    \"Ridge\" : linear_model.Ridge(),\n",
    "    \"DecisionTree\" : tree.DecisionTreeRegressor(max_depth=6),\n",
    "    \"RandomForest\" : RandomForestRegressor(),\n",
    "    \"XGBoost\": XGBRegressor(),\n",
    "    \"LGBM\": LGBMRegressor(),\n",
    "    \"MLP\":  MLPRegressor(),\n",
    "}\n",
    "for model_name in regression_models.keys():\n",
    "    _, y_predict, _, _= make_regression(\n",
    "        X_train, y_train, X_test, y_test,regression_models[model_name], model_name, verbose=False)\n",
    "    print(\"RMSE of:\",model_name, mean_squared_error(y_test,y_predict, squared=False))"
   ]
  },
  {
   "cell_type": "markdown",
   "id": "7a5d3f5a",
   "metadata": {},
   "source": [
    "As we can see from the output, our error rate drops by nearly half. This model’s performance is better than previous results. Based on these results, it seems that linear regression and LGBM will be our best solutions. "
   ]
  },
  {
   "cell_type": "code",
   "execution_count": null,
   "id": "d9706325",
   "metadata": {},
   "outputs": [],
   "source": []
  }
 ],
 "metadata": {
  "kernelspec": {
   "display_name": "Python 3 (ipykernel)",
   "language": "python",
   "name": "python3"
  },
  "language_info": {
   "codemirror_mode": {
    "name": "ipython",
    "version": 3
   },
   "file_extension": ".py",
   "mimetype": "text/x-python",
   "name": "python",
   "nbconvert_exporter": "python",
   "pygments_lexer": "ipython3",
   "version": "3.10.9"
  }
 },
 "nbformat": 4,
 "nbformat_minor": 5
}
